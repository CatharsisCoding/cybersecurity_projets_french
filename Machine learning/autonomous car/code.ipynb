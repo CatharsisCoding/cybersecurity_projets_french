{
 "cells": [
  {
   "cell_type": "code",
   "execution_count": 1,
   "id": "62b4a190",
   "metadata": {
    "_cell_guid": "b1076dfc-b9ad-4769-8c92-a6c4dae69d19",
    "_kg_hide-input": true,
    "_uuid": "8f2839f25d086af736a60e9eeb907d3b93b6e0e5",
    "execution": {
     "iopub.execute_input": "2023-03-13T11:31:57.679530Z",
     "iopub.status.busy": "2023-03-13T11:31:57.678991Z",
     "iopub.status.idle": "2023-03-13T11:33:43.590746Z",
     "shell.execute_reply": "2023-03-13T11:33:43.589392Z"
    },
    "papermill": {
     "duration": 105.929112,
     "end_time": "2023-03-13T11:33:43.593998",
     "exception": false,
     "start_time": "2023-03-13T11:31:57.664886",
     "status": "completed"
    },
    "tags": []
   },
   "outputs": [
    {
     "name": "stdout",
     "output_type": "stream",
     "text": [
      "Collecting numpy==1.19.5\n",
      "  Downloading numpy-1.19.5-cp37-cp37m-manylinux2010_x86_64.whl (14.8 MB)\n",
      "     ━━━━━━━━━━━━━━━━━━━━━━━━━━━━━━━━━━━━━━━━ 14.8/14.8 MB 56.2 MB/s eta 0:00:00\n",
      "Installing collected packages: numpy\n",
      "  Attempting uninstall: numpy\n",
      "    Found existing installation: numpy 1.21.6\n",
      "    Uninstalling numpy-1.21.6:\n",
      "      Successfully uninstalled numpy-1.21.6\n"
     ]
    },
    {
     "name": "stderr",
     "output_type": "stream",
     "text": [
      "ERROR: pip's dependency resolver does not currently take into account all the packages that are installed. This behaviour is the source of the following dependency conflicts.\n",
      "xarray-einstats 0.2.2 requires numpy>=1.21, but you have numpy 1.19.5 which is incompatible.\n",
      "tfx-bsl 1.12.0 requires google-api-python-client<2,>=1.7.11, but you have google-api-python-client 2.79.0 which is incompatible.\n",
      "tensorflow 2.11.0 requires numpy>=1.20, but you have numpy 1.19.5 which is incompatible.\n",
      "tensorflow 2.11.0 requires protobuf<3.20,>=3.9.2, but you have protobuf 3.20.3 which is incompatible.\n",
      "tensorflow-serving-api 2.11.0 requires protobuf<3.20,>=3.9.2, but you have protobuf 3.20.3 which is incompatible.\n",
      "tensorboardx 2.5.1 requires protobuf<=3.20.1,>=3.8.0, but you have protobuf 3.20.3 which is incompatible.\n",
      "librosa 0.10.0 requires numpy>=1.20.3, but you have numpy 1.19.5 which is incompatible.\n",
      "librosa 0.10.0 requires soundfile>=0.12.1, but you have soundfile 0.11.0 which is incompatible.\n",
      "jaxlib 0.3.25 requires numpy>=1.20, but you have numpy 1.19.5 which is incompatible.\n",
      "jax 0.3.25 requires numpy>=1.20, but you have numpy 1.19.5 which is incompatible.\n",
      "featuretools 1.11.1 requires numpy>=1.21.0, but you have numpy 1.19.5 which is incompatible.\n",
      "cmdstanpy 1.1.0 requires numpy>=1.21, but you have numpy 1.19.5 which is incompatible.\n",
      "apache-beam 2.44.0 requires dill<0.3.2,>=0.3.1.1, but you have dill 0.3.6 which is incompatible.\n",
      "WARNING: Running pip as the 'root' user can result in broken permissions and conflicting behaviour with the system package manager. It is recommended to use a virtual environment instead: https://pip.pypa.io/warnings/venv\n"
     ]
    },
    {
     "name": "stdout",
     "output_type": "stream",
     "text": [
      "Successfully installed numpy-1.21.6\n",
      "Collecting pymap3d==2.1.0\n",
      "  Downloading pymap3d-2.1.0.tar.gz (30 kB)\n",
      "  Preparing metadata (setup.py): started\n",
      "  Preparing metadata (setup.py): finished with status 'done'\n",
      "Building wheels for collected packages: pymap3d\n",
      "  Building wheel for pymap3d (setup.py): started\n",
      "  Building wheel for pymap3d (setup.py): finished with status 'done'\n",
      "  Created wheel for pymap3d: filename=pymap3d-2.1.0-py3-none-any.whl size=37449 sha256=48214fec5f21cb112dcd4757bdaeb2736c3cf99676401147c37384c956216897\n",
      "  Stored in directory: /root/.cache/pip/wheels/6e/cc/64/0fabb3ced8a10736c8ddc15a675f6dccc2cc8c658a056b6c49\n",
      "Successfully built pymap3d\n"
     ]
    },
    {
     "name": "stderr",
     "output_type": "stream",
     "text": [
      "WARNING: Error parsing requirements for numpy: [Errno 2] No such file or directory: '/opt/conda/lib/python3.7/site-packages/numpy-1.21.6.dist-info/METADATA'\n"
     ]
    },
    {
     "name": "stdout",
     "output_type": "stream",
     "text": [
      "Installing collected packages: pymap3d\n",
      "Successfully installed pymap3d-2.1.0\n"
     ]
    },
    {
     "name": "stderr",
     "output_type": "stream",
     "text": [
      "WARNING: Running pip as the 'root' user can result in broken permissions and conflicting behaviour with the system package manager. It is recommended to use a virtual environment instead: https://pip.pypa.io/warnings/venv\n"
     ]
    },
    {
     "name": "stdout",
     "output_type": "stream",
     "text": [
      "Collecting protobuf==3.12.2\n",
      "  Downloading protobuf-3.12.2-cp37-cp37m-manylinux1_x86_64.whl (1.3 MB)\n",
      "     ━━━━━━━━━━━━━━━━━━━━━━━━━━━━━━━━━━━━━━━━ 1.3/1.3 MB 23.1 MB/s eta 0:00:00\n",
      "Collecting six>=1.9\n",
      "  Downloading six-1.16.0-py2.py3-none-any.whl (11 kB)\n",
      "Collecting setuptools\n",
      "  Downloading setuptools-67.6.0-py3-none-any.whl (1.1 MB)\n",
      "     ━━━━━━━━━━━━━━━━━━━━━━━━━━━━━━━━━━━━━━━━ 1.1/1.1 MB 47.1 MB/s eta 0:00:00\n"
     ]
    },
    {
     "name": "stderr",
     "output_type": "stream",
     "text": [
      "WARNING: Error parsing requirements for numpy: [Errno 2] No such file or directory: '/opt/conda/lib/python3.7/site-packages/numpy-1.21.6.dist-info/METADATA'\n"
     ]
    },
    {
     "name": "stdout",
     "output_type": "stream",
     "text": [
      "Installing collected packages: six, setuptools, protobuf\n"
     ]
    },
    {
     "name": "stderr",
     "output_type": "stream",
     "text": [
      "ERROR: pip's dependency resolver does not currently take into account all the packages that are installed. This behaviour is the source of the following dependency conflicts.\n",
      "vaex-core 4.16.1 requires numpy>=1.16, which is not installed.\n",
      "thinc 8.1.7 requires numpy>=1.15.0, which is not installed.\n",
      "theano 1.0.5 requires numpy>=1.9.1, which is not installed.\n",
      "tfx-bsl 1.12.0 requires numpy<2,>=1.16, which is not installed.\n",
      "tensorpack 0.11 requires numpy>=1.14, which is not installed.\n",
      "tensorflow 2.11.0 requires numpy>=1.20, which is not installed.\n",
      "tensorflow-transform 1.12.0 requires numpy<2,>=1.16, which is not installed.\n",
      "tensorflow-probability 0.19.0 requires numpy>=1.13.3, which is not installed.\n",
      "tensorflow-hub 0.12.0 requires numpy>=1.12.0, which is not installed.\n",
      "tensorflow-decision-forests 1.2.0 requires numpy, which is not installed.\n",
      "tensorflow-datasets 4.8.2 requires numpy, which is not installed.\n",
      "tensorboardx 2.5.1 requires numpy, which is not installed.\n",
      "tensorboard 2.11.2 requires numpy>=1.12.0, which is not installed.\n",
      "spacy 3.5.0 requires numpy>=1.15.0, which is not installed.\n",
      "scikit-surprise 1.1.1 requires numpy>=1.11.2, which is not installed.\n",
      "scattertext 0.1.12 requires numpy, which is not installed.\n",
      "ray 2.2.0 requires numpy>=1.16; python_version < \"3.9\", which is not installed.\n",
      "rasterio 1.2.10 requires numpy, which is not installed.\n",
      "pyastronomy 0.18.1 requires numpy, which is not installed.\n",
      "py-stringmatching 0.4.2 requires numpy>=1.7.0, which is not installed.\n",
      "prophet 1.1.1 requires numpy>=1.15.4, which is not installed.\n",
      "patsy 0.5.3 requires numpy>=1.4, which is not installed.\n",
      "pandas 1.3.5 requires numpy>=1.17.3; platform_machine != \"aarch64\" and platform_machine != \"arm64\" and python_version < \"3.10\", which is not installed.\n",
      "pandas-summary 0.2.0 requires numpy, which is not installed.\n",
      "pandas-profiling 3.6.2 requires numpy<1.24,>=1.16.0, which is not installed.\n",
      "osmnx 1.1.1 requires numpy>=1.19, which is not installed.\n",
      "ortools 9.4.1874 requires numpy>=1.13.3, which is not installed.\n",
      "onnx 1.13.1 requires numpy>=1.16.6, which is not installed.\n",
      "numba 0.56.4 requires numpy<1.24,>=1.18, which is not installed.\n",
      "nilearn 0.10.0 requires numpy>=1.19.0, which is not installed.\n",
      "nibabel 4.0.2 requires numpy>=1.17, which is not installed.\n",
      "mlxtend 0.21.0 requires numpy>=1.16.2, which is not installed.\n",
      "mlcrate 0.2.0 requires numpy, which is not installed.\n",
      "mizani 0.7.3 requires numpy, which is not installed.\n",
      "matrixprofile 1.1.10 requires numpy>=1.16.2, which is not installed.\n",
      "matplotlib 3.5.3 requires numpy>=1.17, which is not installed.\n",
      "matplotlib-venn 0.11.7 requires numpy, which is not installed.\n",
      "mapclassify 2.5.0 requires numpy>=1.3, which is not installed.\n",
      "lime 0.2.0.1 requires numpy, which is not installed.\n",
      "librosa 0.10.0 requires numpy>=1.20.3, which is not installed.\n",
      "libpysal 4.7.0 requires numpy>=1.3, which is not installed.\n",
      "keras-tuner 1.1.3 requires numpy, which is not installed.\n",
      "ipyvolume 0.6.0 requires numpy, which is not installed.\n",
      "imgaug 0.4.0 requires numpy>=1.15, which is not installed.\n",
      "ibis-framework 2.1.1 requires numpy<2,>=1, which is not installed.\n",
      "hypertools 0.8.0 requires numpy>=1.10.4, which is not installed.\n",
      "hyperopt 0.2.7 requires numpy, which is not installed.\n",
      "hpsklearn 0.1.0 requires numpy, which is not installed.\n",
      "holoviews 1.15.4 requires numpy>=1.0, which is not installed.\n",
      "hep-ml 0.7.1 requires numpy>=1.9, which is not installed.\n",
      "gluoncv 0.10.5.post0 requires numpy, which is not installed.\n",
      "ggplot 0.11.5 requires numpy, which is not installed.\n",
      "geoviews 1.9.6 requires numpy, which is not installed.\n",
      "flax 0.6.4 requires numpy>=1.12, which is not installed.\n",
      "fitter 1.5.2 requires numpy, which is not installed.\n",
      "featuretools 1.11.1 requires numpy>=1.21.0, which is not installed.\n",
      "fasttext 0.9.2 requires numpy, which is not installed.\n",
      "explainable-ai-sdk 1.3.3 requires numpy>=1.7, which is not installed.\n",
      "essentia 2.1b6.dev858 requires numpy>=1.8.2, which is not installed.\n",
      "eli5 0.13.0 requires numpy>=1.9.0, which is not installed.\n",
      "easyocr 1.6.2 requires numpy, which is not installed.\n",
      "db-dtypes 1.0.5 requires numpy<2.0dev,>=1.16.6, which is not installed.\n",
      "datashape 0.5.2 requires numpy>=1.7, which is not installed.\n",
      "datashader 0.14.4 requires numpy, which is not installed.\n",
      "datasets 2.1.0 requires numpy>=1.17, which is not installed.\n",
      "cufflinks 0.17.3 requires numpy>=1.9.2, which is not installed.\n",
      "cmdstanpy 1.1.0 requires numpy>=1.21, which is not installed.\n",
      "cleverhans 4.0.0 requires numpy, which is not installed.\n",
      "category-encoders 2.6.0 requires numpy>=1.14.0, which is not installed.\n",
      "catboost 1.1.1 requires numpy>=1.16.0, which is not installed.\n",
      "catalyst 22.4 requires numpy>=1.18, which is not installed.\n",
      "bqplot 0.12.36 requires numpy<2.0.0,>=1.10.4, which is not installed.\n",
      "arviz 0.12.1 requires numpy>=1.12, which is not installed.\n",
      "apache-beam 2.44.0 requires numpy<1.23.0,>=1.14.3, which is not installed.\n",
      "altair 4.2.2 requires numpy, which is not installed.\n",
      "access 1.1.8 requires numpy>=1.3, which is not installed.\n",
      "tfx-bsl 1.12.0 requires google-api-python-client<2,>=1.7.11, but you have google-api-python-client 2.79.0 which is incompatible.\n",
      "tfx-bsl 1.12.0 requires protobuf<4,>=3.13, but you have protobuf 3.12.2 which is incompatible.\n",
      "tensorflow-transform 1.12.0 requires protobuf<4,>=3.13, but you have protobuf 3.12.2 which is incompatible.\n",
      "tensorflow-metadata 1.12.0 requires protobuf<4,>=3.13, but you have protobuf 3.12.2 which is incompatible.\n",
      "ray 2.2.0 requires protobuf!=3.19.5,>=3.15.3, but you have protobuf 3.12.2 which is incompatible.\n",
      "proto-plus 1.22.2 requires protobuf<5.0.0dev,>=3.19.0, but you have protobuf 3.12.2 which is incompatible.\n",
      "ortools 9.4.1874 requires protobuf>=3.19.4, but you have protobuf 3.12.2 which is incompatible.\n",
      "opentelemetry-proto 1.1.0 requires protobuf>=3.13.0, but you have protobuf 3.12.2 which is incompatible.\n",
      "onnx 1.13.1 requires protobuf<4,>=3.20.2, but you have protobuf 3.12.2 which is incompatible.\n",
      "librosa 0.10.0 requires soundfile>=0.12.1, but you have soundfile 0.11.0 which is incompatible.\n",
      "grpc-google-iam-v1 0.12.6 requires protobuf!=3.20.0,!=3.20.1,!=4.21.1,!=4.21.2,!=4.21.3,!=4.21.4,!=4.21.5,<5.0.0dev,>=3.19.5, but you have protobuf 3.12.2 which is incompatible.\n",
      "googleapis-common-protos 1.58.0 requires protobuf!=3.20.0,!=3.20.1,!=4.21.1,!=4.21.2,!=4.21.3,!=4.21.4,!=4.21.5,<5.0.0dev,>=3.19.5, but you have protobuf 3.12.2 which is incompatible.\n",
      "google-cloud-vision 2.8.0 requires protobuf<4.0.0dev,>=3.19.0, but you have protobuf 3.12.2 which is incompatible.\n",
      "google-cloud-videointelligence 2.8.3 requires protobuf!=3.20.0,!=3.20.1,!=4.21.0,!=4.21.1,!=4.21.2,!=4.21.3,!=4.21.4,!=4.21.5,<5.0.0dev,>=3.19.5, but you have protobuf 3.12.2 which is incompatible.\n",
      "google-cloud-translate 3.8.4 requires protobuf!=3.20.0,!=3.20.1,!=4.21.0,!=4.21.1,!=4.21.2,!=4.21.3,!=4.21.4,!=4.21.5,<5.0.0dev,>=3.19.5, but you have protobuf 3.12.2 which is incompatible.\n",
      "google-cloud-spanner 3.27.0 requires protobuf!=3.20.0,!=3.20.1,!=4.21.0,!=4.21.1,!=4.21.2,!=4.21.3,!=4.21.4,!=4.21.5,<5.0.0dev,>=3.19.5, but you have protobuf 3.12.2 which is incompatible.\n",
      "google-cloud-resource-manager 1.8.1 requires protobuf!=3.20.0,!=3.20.1,!=4.21.0,!=4.21.1,!=4.21.2,!=4.21.3,!=4.21.4,!=4.21.5,<5.0.0dev,>=3.19.5, but you have protobuf 3.12.2 which is incompatible.\n",
      "google-cloud-recommendations-ai 0.7.1 requires protobuf<5.0.0dev,>=3.19.0, but you have protobuf 3.12.2 which is incompatible.\n",
      "google-cloud-pubsub 2.14.0 requires protobuf!=3.20.0,!=3.20.1,!=4.21.0,!=4.21.1,!=4.21.2,!=4.21.3,!=4.21.4,!=4.21.5,<5.0.0dev,>=3.19.5, but you have protobuf 3.12.2 which is incompatible.\n",
      "google-cloud-monitoring 2.14.1 requires protobuf!=3.20.0,!=3.20.1,!=4.21.0,!=4.21.1,!=4.21.2,!=4.21.3,!=4.21.4,!=4.21.5,<5.0.0dev,>=3.19.5, but you have protobuf 3.12.2 which is incompatible.\n",
      "google-cloud-language 2.6.1 requires protobuf!=3.20.0,!=3.20.1,!=4.21.0,!=4.21.1,!=4.21.2,!=4.21.3,!=4.21.4,!=4.21.5,<5.0.0dev,>=3.19.5, but you have protobuf 3.12.2 which is incompatible.\n",
      "google-cloud-dlp 3.11.1 requires protobuf!=3.20.0,!=3.20.1,!=4.21.0,!=4.21.1,!=4.21.2,!=4.21.3,!=4.21.4,!=4.21.5,<5.0.0dev,>=3.19.5, but you have protobuf 3.12.2 which is incompatible.\n",
      "google-api-core 1.34.0 requires protobuf!=3.20.0,!=3.20.1,!=4.21.0,!=4.21.1,!=4.21.2,!=4.21.3,!=4.21.4,!=4.21.5,<4.0.0dev,>=3.19.5, but you have protobuf 3.12.2 which is incompatible.\n",
      "cloud-tpu-client 0.10 requires google-api-python-client==1.8.0, but you have google-api-python-client 2.79.0 which is incompatible.\n",
      "boto3 1.26.77 requires botocore<1.30.0,>=1.29.77, but you have botocore 1.27.59 which is incompatible.\n",
      "apache-beam 2.44.0 requires dill<0.3.2,>=0.3.1.1, but you have dill 0.3.6 which is incompatible.\n",
      "apache-beam 2.44.0 requires protobuf<4,>3.12.2, but you have protobuf 3.12.2 which is incompatible.\n",
      "WARNING: Running pip as the 'root' user can result in broken permissions and conflicting behaviour with the system package manager. It is recommended to use a virtual environment instead: https://pip.pypa.io/warnings/venv\n"
     ]
    },
    {
     "name": "stdout",
     "output_type": "stream",
     "text": [
      "Successfully installed protobuf-3.12.2 setuptools-67.6.0 six-1.16.0\n",
      "Collecting transforms3d\n",
      "  Downloading transforms3d-0.4.1.tar.gz (1.4 MB)\n",
      "     ━━━━━━━━━━━━━━━━━━━━━━━━━━━━━━━━━━━━━━━━ 1.4/1.4 MB 25.9 MB/s eta 0:00:00\n",
      "  Preparing metadata (setup.py): started\n",
      "  Preparing metadata (setup.py): finished with status 'done'\n",
      "Building wheels for collected packages: transforms3d\n",
      "  Building wheel for transforms3d (setup.py): started\n",
      "  Building wheel for transforms3d (setup.py): finished with status 'done'\n",
      "  Created wheel for transforms3d: filename=transforms3d-0.4.1-py3-none-any.whl size=1376772 sha256=d1a0c678b70d08340a414a8320ce0c069ec7d2de5a01c17df55ecca249f5280a\n",
      "  Stored in directory: /root/.cache/pip/wheels/0b/2a/fe/379cf61e108f06750107439af6531daf372d7de2c390a939b4\n",
      "Successfully built transforms3d\n"
     ]
    },
    {
     "name": "stderr",
     "output_type": "stream",
     "text": [
      "WARNING: Error parsing requirements for numpy: [Errno 2] No such file or directory: '/opt/conda/lib/python3.7/site-packages/numpy-1.21.6.dist-info/METADATA'\n"
     ]
    },
    {
     "name": "stdout",
     "output_type": "stream",
     "text": [
      "Installing collected packages: transforms3d\n",
      "Successfully installed transforms3d-0.4.1\n"
     ]
    },
    {
     "name": "stderr",
     "output_type": "stream",
     "text": [
      "WARNING: Running pip as the 'root' user can result in broken permissions and conflicting behaviour with the system package manager. It is recommended to use a virtual environment instead: https://pip.pypa.io/warnings/venv\n"
     ]
    },
    {
     "name": "stdout",
     "output_type": "stream",
     "text": [
      "Collecting zarr\n",
      "  Downloading zarr-2.12.0-py3-none-any.whl (185 kB)\n",
      "     ━━━━━━━━━━━━━━━━━━━━━━━━━━━━━━━━━━━━━━━ 185.8/185.8 kB 6.6 MB/s eta 0:00:00\n",
      "Collecting asciitree\n",
      "  Downloading asciitree-0.3.3.tar.gz (4.0 kB)\n",
      "  Preparing metadata (setup.py): started\n",
      "  Preparing metadata (setup.py): finished with status 'done'\n",
      "Collecting numpy>=1.7\n",
      "  Downloading numpy-1.21.6-cp37-cp37m-manylinux_2_12_x86_64.manylinux2010_x86_64.whl (15.7 MB)\n",
      "     ━━━━━━━━━━━━━━━━━━━━━━━━━━━━━━━━━━━━━━━━ 15.7/15.7 MB 60.0 MB/s eta 0:00:00\n",
      "Collecting numcodecs>=0.6.4\n",
      "  Downloading numcodecs-0.10.2-cp37-cp37m-manylinux_2_17_x86_64.manylinux2014_x86_64.whl (6.6 MB)\n",
      "     ━━━━━━━━━━━━━━━━━━━━━━━━━━━━━━━━━━━━━━━━ 6.6/6.6 MB 73.8 MB/s eta 0:00:00\n",
      "Collecting fasteners\n",
      "  Downloading fasteners-0.18-py3-none-any.whl (18 kB)\n",
      "Collecting entrypoints\n",
      "  Downloading entrypoints-0.4-py3-none-any.whl (5.3 kB)\n",
      "Collecting typing-extensions>=3.7.4\n",
      "  Downloading typing_extensions-4.5.0-py3-none-any.whl (27 kB)\n",
      "Building wheels for collected packages: asciitree\n",
      "  Building wheel for asciitree (setup.py): started\n",
      "  Building wheel for asciitree (setup.py): finished with status 'done'\n",
      "  Created wheel for asciitree: filename=asciitree-0.3.3-py3-none-any.whl size=5050 sha256=6eeb9ffad2881ae56c9d06271edd146b93bfd8be44489e2e5ed2f7b6d8f46b75\n",
      "  Stored in directory: /root/.cache/pip/wheels/e2/97/c4/5537ba28215ed3508783dc23c1fb59e17f00722317e4edeac0\n",
      "Successfully built asciitree\n"
     ]
    },
    {
     "name": "stderr",
     "output_type": "stream",
     "text": [
      "WARNING: Error parsing requirements for numpy: [Errno 2] No such file or directory: '/opt/conda/lib/python3.7/site-packages/numpy-1.21.6.dist-info/METADATA'\n"
     ]
    },
    {
     "name": "stdout",
     "output_type": "stream",
     "text": [
      "Installing collected packages: asciitree, typing-extensions, numpy, fasteners, entrypoints, numcodecs, zarr\n"
     ]
    },
    {
     "name": "stderr",
     "output_type": "stream",
     "text": [
      "ERROR: pip's dependency resolver does not currently take into account all the packages that are installed. This behaviour is the source of the following dependency conflicts.\n",
      "wasabi 1.1.1 requires typing-extensions<4.5.0,>=3.7.4.1; python_version < \"3.8\", but you have typing-extensions 4.5.0 which is incompatible.\n",
      "thinc 8.1.7 requires typing-extensions<4.5.0,>=3.7.4.1; python_version < \"3.8\", but you have typing-extensions 4.5.0 which is incompatible.\n",
      "tfx-bsl 1.12.0 requires google-api-python-client<2,>=1.7.11, but you have google-api-python-client 2.79.0 which is incompatible.\n",
      "tensorflow 2.11.0 requires protobuf<3.20,>=3.9.2, but you have protobuf 3.20.3 which is incompatible.\n",
      "tensorflow-serving-api 2.11.0 requires protobuf<3.20,>=3.9.2, but you have protobuf 3.20.3 which is incompatible.\n",
      "tensorboardx 2.5.1 requires protobuf<=3.20.1,>=3.8.0, but you have protobuf 3.20.3 which is incompatible.\n",
      "spacy 3.5.0 requires typing-extensions<4.5.0,>=3.7.4.1; python_version < \"3.8\", but you have typing-extensions 4.5.0 which is incompatible.\n",
      "librosa 0.10.0 requires soundfile>=0.12.1, but you have soundfile 0.11.0 which is incompatible.\n",
      "flake8 5.0.4 requires importlib-metadata<4.3,>=1.1.0; python_version < \"3.8\", but you have importlib-metadata 4.11.4 which is incompatible.\n",
      "confection 0.0.4 requires typing-extensions<4.5.0,>=3.7.4.1; python_version < \"3.8\", but you have typing-extensions 4.5.0 which is incompatible.\n",
      "cmudict 1.0.13 requires importlib-metadata<6.0.0,>=5.1.0, but you have importlib-metadata 4.11.4 which is incompatible.\n",
      "apache-beam 2.44.0 requires dill<0.3.2,>=0.3.1.1, but you have dill 0.3.6 which is incompatible.\n",
      "WARNING: Target directory /kaggle/working/__pycache__ already exists. Specify --upgrade to force replacement.\n"
     ]
    },
    {
     "name": "stdout",
     "output_type": "stream",
     "text": [
      "Successfully installed asciitree-0.3.3 entrypoints-0.4 fasteners-0.18 numcodecs-0.10.2 numpy-1.21.6 typing-extensions-4.5.0 zarr-2.12.0\n"
     ]
    },
    {
     "name": "stderr",
     "output_type": "stream",
     "text": [
      "WARNING: Target directory /kaggle/working/bin already exists. Specify --upgrade to force replacement.\n",
      "WARNING: Running pip as the 'root' user can result in broken permissions and conflicting behaviour with the system package manager. It is recommended to use a virtual environment instead: https://pip.pypa.io/warnings/venv\n"
     ]
    },
    {
     "name": "stdout",
     "output_type": "stream",
     "text": [
      "Collecting ptable\n",
      "  Downloading PTable-0.9.2.tar.gz (31 kB)\n",
      "  Preparing metadata (setup.py): started\n",
      "  Preparing metadata (setup.py): finished with status 'done'\n",
      "Building wheels for collected packages: ptable\n",
      "  Building wheel for ptable (setup.py): started\n",
      "  Building wheel for ptable (setup.py): finished with status 'done'\n",
      "  Created wheel for ptable: filename=PTable-0.9.2-py3-none-any.whl size=22925 sha256=726fb265c25b4a275f5f966b165bf3fee0e61b4da192a8886c2fae94121ad39c\n",
      "  Stored in directory: /root/.cache/pip/wheels/06/7f/53/a4d4981283f05f4678f6765305901f2f43911384b5bddfe8d9\n",
      "Successfully built ptable\n"
     ]
    },
    {
     "name": "stderr",
     "output_type": "stream",
     "text": [
      "WARNING: Error parsing requirements for numpy: [Errno 2] No such file or directory: '/opt/conda/lib/python3.7/site-packages/numpy-1.21.6.dist-info/METADATA'\n"
     ]
    },
    {
     "name": "stdout",
     "output_type": "stream",
     "text": [
      "Installing collected packages: ptable\n",
      "Successfully installed ptable-0.9.2\n"
     ]
    },
    {
     "name": "stderr",
     "output_type": "stream",
     "text": [
      "WARNING: Target directory /kaggle/working/bin already exists. Specify --upgrade to force replacement.\n",
      "WARNING: Running pip as the 'root' user can result in broken permissions and conflicting behaviour with the system package manager. It is recommended to use a virtual environment instead: https://pip.pypa.io/warnings/venv\n"
     ]
    },
    {
     "name": "stdout",
     "output_type": "stream",
     "text": [
      "Collecting l5kit\n",
      "  Downloading l5kit-1.5.0-py3-none-any.whl (156 kB)\n",
      "     ━━━━━━━━━━━━━━━━━━━━━━━━━━━━━━━━━━━━━━━ 156.4/156.4 kB 5.4 MB/s eta 0:00:00\n",
      "Installing collected packages: l5kit\n",
      "Successfully installed l5kit-1.5.0\n"
     ]
    },
    {
     "name": "stderr",
     "output_type": "stream",
     "text": [
      "WARNING: Running pip as the 'root' user can result in broken permissions and conflicting behaviour with the system package manager. It is recommended to use a virtual environment instead: https://pip.pypa.io/warnings/venv\n"
     ]
    },
    {
     "name": "stdout",
     "output_type": "stream",
     "text": [
      "Collecting l5kit\r\n",
      "  Using cached l5kit-1.5.0-py3-none-any.whl (156 kB)\r\n",
      "Requirement already satisfied: ipywidgets in /opt/conda/lib/python3.7/site-packages (from l5kit) (7.7.1)\r\n",
      "Requirement already satisfied: torchvision<1.0.0,>=0.6.0 in /opt/conda/lib/python3.7/site-packages (from l5kit) (0.14.0+cpu)\r\n",
      "Requirement already satisfied: setuptools in /opt/conda/lib/python3.7/site-packages (from l5kit) (59.8.0)\r\n",
      "Requirement already satisfied: imageio in /opt/conda/lib/python3.7/site-packages (from l5kit) (2.25.0)\r\n",
      "Collecting zarr\r\n",
      "  Using cached zarr-2.12.0-py3-none-any.whl (185 kB)\r\n",
      "Requirement already satisfied: notebook in /opt/conda/lib/python3.7/site-packages (from l5kit) (6.5.2)\r\n",
      "Requirement already satisfied: pyyaml in /opt/conda/lib/python3.7/site-packages (from l5kit) (6.0)\r\n",
      "Collecting pymap3d\r\n",
      "  Downloading pymap3d-2.9.1-py3-none-any.whl (53 kB)\r\n",
      "\u001b[2K     \u001b[90m━━━━━━━━━━━━━━━━━━━━━━━━━━━━━━━━━━━━━━━━\u001b[0m \u001b[32m53.4/53.4 kB\u001b[0m \u001b[31m4.1 MB/s\u001b[0m eta \u001b[36m0:00:00\u001b[0m\r\n",
      "\u001b[?25hCollecting opencv-contrib-python-headless\r\n",
      "  Downloading opencv_contrib_python_headless-4.7.0.72-cp37-abi3-manylinux_2_17_x86_64.manylinux2014_x86_64.whl (55.3 MB)\r\n",
      "\u001b[2K     \u001b[90m━━━━━━━━━━━━━━━━━━━━━━━━━━━━━━━━━━━━━━━━\u001b[0m \u001b[32m55.3/55.3 MB\u001b[0m \u001b[31m18.5 MB/s\u001b[0m eta \u001b[36m0:00:00\u001b[0m\r\n",
      "\u001b[?25hRequirement already satisfied: shapely in /opt/conda/lib/python3.7/site-packages (from l5kit) (1.8.0)\r\n",
      "Collecting numpy~=1.19.0\r\n",
      "  Using cached numpy-1.19.5-cp37-cp37m-manylinux2010_x86_64.whl (14.8 MB)\r\n",
      "Collecting transforms3d\r\n",
      "  Using cached transforms3d-0.4.1-py3-none-any.whl\r\n",
      "Requirement already satisfied: torch<2.0.0,>=1.5.0 in /opt/conda/lib/python3.7/site-packages (from l5kit) (1.13.0+cpu)\r\n",
      "Requirement already satisfied: scipy in /opt/conda/lib/python3.7/site-packages (from l5kit) (1.7.3)\r\n",
      "Requirement already satisfied: typing-extensions in /opt/conda/lib/python3.7/site-packages (from l5kit) (4.4.0)\r\n",
      "Requirement already satisfied: matplotlib in /opt/conda/lib/python3.7/site-packages (from l5kit) (3.5.3)\r\n",
      "Collecting ptable\r\n",
      "  Using cached PTable-0.9.2-py3-none-any.whl\r\n",
      "Requirement already satisfied: protobuf>=3.12.2 in /opt/conda/lib/python3.7/site-packages (from l5kit) (3.20.3)\r\n",
      "Requirement already satisfied: tqdm in /opt/conda/lib/python3.7/site-packages (from l5kit) (4.64.1)\r\n",
      "Requirement already satisfied: gym in /opt/conda/lib/python3.7/site-packages (from l5kit) (0.23.1)\r\n",
      "Requirement already satisfied: bokeh in /opt/conda/lib/python3.7/site-packages (from l5kit) (2.4.3)\r\n",
      "Requirement already satisfied: requests in /opt/conda/lib/python3.7/site-packages (from torchvision<1.0.0,>=0.6.0->l5kit) (2.28.2)\r\n",
      "Requirement already satisfied: pillow!=8.3.*,>=5.3.0 in /opt/conda/lib/python3.7/site-packages (from torchvision<1.0.0,>=0.6.0->l5kit) (9.4.0)\r\n",
      "Requirement already satisfied: tornado>=5.1 in /opt/conda/lib/python3.7/site-packages (from bokeh->l5kit) (6.2)\r\n",
      "Requirement already satisfied: packaging>=16.8 in /opt/conda/lib/python3.7/site-packages (from bokeh->l5kit) (23.0)\r\n",
      "Requirement already satisfied: Jinja2>=2.9 in /opt/conda/lib/python3.7/site-packages (from bokeh->l5kit) (3.1.2)\r\n",
      "Requirement already satisfied: importlib-metadata>=4.10.0 in /opt/conda/lib/python3.7/site-packages (from gym->l5kit) (4.11.4)\r\n",
      "Requirement already satisfied: gym-notices>=0.0.4 in /opt/conda/lib/python3.7/site-packages (from gym->l5kit) (0.0.8)\r\n",
      "Requirement already satisfied: cloudpickle>=1.2.0 in /opt/conda/lib/python3.7/site-packages (from gym->l5kit) (2.2.1)\r\n",
      "Requirement already satisfied: ipykernel>=4.5.1 in /opt/conda/lib/python3.7/site-packages (from ipywidgets->l5kit) (6.16.2)\r\n",
      "Requirement already satisfied: widgetsnbextension~=3.6.0 in /opt/conda/lib/python3.7/site-packages (from ipywidgets->l5kit) (3.6.2)\r\n",
      "Requirement already satisfied: ipython-genutils~=0.2.0 in /opt/conda/lib/python3.7/site-packages (from ipywidgets->l5kit) (0.2.0)\r\n",
      "Requirement already satisfied: traitlets>=4.3.1 in /opt/conda/lib/python3.7/site-packages (from ipywidgets->l5kit) (5.8.1)\r\n",
      "Requirement already satisfied: jupyterlab-widgets>=1.0.0 in /opt/conda/lib/python3.7/site-packages (from ipywidgets->l5kit) (3.0.5)\r\n",
      "Requirement already satisfied: ipython>=4.0.0 in /opt/conda/lib/python3.7/site-packages (from ipywidgets->l5kit) (7.34.0)\r\n",
      "Requirement already satisfied: pyparsing>=2.2.1 in /opt/conda/lib/python3.7/site-packages (from matplotlib->l5kit) (3.0.9)\r\n",
      "Requirement already satisfied: cycler>=0.10 in /opt/conda/lib/python3.7/site-packages (from matplotlib->l5kit) (0.11.0)\r\n",
      "Requirement already satisfied: fonttools>=4.22.0 in /opt/conda/lib/python3.7/site-packages (from matplotlib->l5kit) (4.38.0)\r\n",
      "Requirement already satisfied: python-dateutil>=2.7 in /opt/conda/lib/python3.7/site-packages (from matplotlib->l5kit) (2.8.2)\r\n",
      "Requirement already satisfied: kiwisolver>=1.0.1 in /opt/conda/lib/python3.7/site-packages (from matplotlib->l5kit) (1.4.4)\r\n",
      "Requirement already satisfied: terminado>=0.8.3 in /opt/conda/lib/python3.7/site-packages (from notebook->l5kit) (0.17.1)\r\n",
      "Requirement already satisfied: Send2Trash>=1.8.0 in /opt/conda/lib/python3.7/site-packages (from notebook->l5kit) (1.8.0)\r\n",
      "Requirement already satisfied: prometheus-client in /opt/conda/lib/python3.7/site-packages (from notebook->l5kit) (0.15.0)\r\n",
      "Requirement already satisfied: nest-asyncio>=1.5 in /opt/conda/lib/python3.7/site-packages (from notebook->l5kit) (1.5.6)\r\n",
      "Requirement already satisfied: jupyter-client>=5.3.4 in /opt/conda/lib/python3.7/site-packages (from notebook->l5kit) (7.4.9)\r\n",
      "Requirement already satisfied: nbformat in /opt/conda/lib/python3.7/site-packages (from notebook->l5kit) (5.7.3)\r\n",
      "Requirement already satisfied: pyzmq>=17 in /opt/conda/lib/python3.7/site-packages (from notebook->l5kit) (25.0.0)\r\n",
      "Requirement already satisfied: nbconvert>=5 in /opt/conda/lib/python3.7/site-packages (from notebook->l5kit) (7.2.8)\r\n",
      "Requirement already satisfied: nbclassic>=0.4.7 in /opt/conda/lib/python3.7/site-packages (from notebook->l5kit) (0.4.8)\r\n",
      "Requirement already satisfied: argon2-cffi in /opt/conda/lib/python3.7/site-packages (from notebook->l5kit) (21.3.0)\r\n",
      "Requirement already satisfied: jupyter-core>=4.6.1 in /opt/conda/lib/python3.7/site-packages (from notebook->l5kit) (4.12.0)\r\n",
      "Collecting numcodecs>=0.6.4\r\n",
      "  Using cached numcodecs-0.10.2-cp37-cp37m-manylinux_2_17_x86_64.manylinux2014_x86_64.whl (6.6 MB)\r\n",
      "Requirement already satisfied: fasteners in /opt/conda/lib/python3.7/site-packages (from zarr->l5kit) (0.18)\r\n",
      "Collecting asciitree\r\n",
      "  Using cached asciitree-0.3.3-py3-none-any.whl\r\n",
      "Requirement already satisfied: zipp>=0.5 in /opt/conda/lib/python3.7/site-packages (from importlib-metadata>=4.10.0->gym->l5kit) (3.11.0)\r\n",
      "Requirement already satisfied: matplotlib-inline>=0.1 in /opt/conda/lib/python3.7/site-packages (from ipykernel>=4.5.1->ipywidgets->l5kit) (0.1.6)\r\n",
      "Requirement already satisfied: debugpy>=1.0 in /opt/conda/lib/python3.7/site-packages (from ipykernel>=4.5.1->ipywidgets->l5kit) (1.6.6)\r\n",
      "Requirement already satisfied: psutil in /opt/conda/lib/python3.7/site-packages (from ipykernel>=4.5.1->ipywidgets->l5kit) (5.9.3)\r\n",
      "Requirement already satisfied: backcall in /opt/conda/lib/python3.7/site-packages (from ipython>=4.0.0->ipywidgets->l5kit) (0.2.0)\r\n",
      "Requirement already satisfied: pickleshare in /opt/conda/lib/python3.7/site-packages (from ipython>=4.0.0->ipywidgets->l5kit) (0.7.5)\r\n",
      "Requirement already satisfied: jedi>=0.16 in /opt/conda/lib/python3.7/site-packages (from ipython>=4.0.0->ipywidgets->l5kit) (0.18.2)\r\n",
      "Requirement already satisfied: decorator in /opt/conda/lib/python3.7/site-packages (from ipython>=4.0.0->ipywidgets->l5kit) (5.1.1)\r\n",
      "Requirement already satisfied: prompt-toolkit!=3.0.0,!=3.0.1,<3.1.0,>=2.0.0 in /opt/conda/lib/python3.7/site-packages (from ipython>=4.0.0->ipywidgets->l5kit) (3.0.36)\r\n",
      "Requirement already satisfied: pexpect>4.3 in /opt/conda/lib/python3.7/site-packages (from ipython>=4.0.0->ipywidgets->l5kit) (4.8.0)\r\n",
      "Requirement already satisfied: pygments in /opt/conda/lib/python3.7/site-packages (from ipython>=4.0.0->ipywidgets->l5kit) (2.14.0)\r\n",
      "Requirement already satisfied: MarkupSafe>=2.0 in /opt/conda/lib/python3.7/site-packages (from Jinja2>=2.9->bokeh->l5kit) (2.1.1)\r\n",
      "Requirement already satisfied: entrypoints in /opt/conda/lib/python3.7/site-packages (from jupyter-client>=5.3.4->notebook->l5kit) (0.4)\r\n",
      "Requirement already satisfied: notebook-shim>=0.1.0 in /opt/conda/lib/python3.7/site-packages (from nbclassic>=0.4.7->notebook->l5kit) (0.2.2)\r\n",
      "Requirement already satisfied: jupyter-server>=1.8 in /opt/conda/lib/python3.7/site-packages (from nbclassic>=0.4.7->notebook->l5kit) (1.23.5)\r\n",
      "Requirement already satisfied: beautifulsoup4 in /opt/conda/lib/python3.7/site-packages (from nbconvert>=5->notebook->l5kit) (4.11.1)\r\n",
      "Requirement already satisfied: bleach in /opt/conda/lib/python3.7/site-packages (from nbconvert>=5->notebook->l5kit) (6.0.0)\r\n",
      "Requirement already satisfied: nbclient>=0.5.0 in /opt/conda/lib/python3.7/site-packages (from nbconvert>=5->notebook->l5kit) (0.7.2)\r\n",
      "Requirement already satisfied: mistune<3,>=2.0.3 in /opt/conda/lib/python3.7/site-packages (from nbconvert>=5->notebook->l5kit) (2.0.4)\r\n",
      "Requirement already satisfied: defusedxml in /opt/conda/lib/python3.7/site-packages (from nbconvert>=5->notebook->l5kit) (0.7.1)\r\n",
      "Requirement already satisfied: pandocfilters>=1.4.1 in /opt/conda/lib/python3.7/site-packages (from nbconvert>=5->notebook->l5kit) (1.5.0)\r\n",
      "Requirement already satisfied: tinycss2 in /opt/conda/lib/python3.7/site-packages (from nbconvert>=5->notebook->l5kit) (1.2.1)\r\n",
      "Requirement already satisfied: jupyterlab-pygments in /opt/conda/lib/python3.7/site-packages (from nbconvert>=5->notebook->l5kit) (0.2.2)\r\n",
      "Requirement already satisfied: jsonschema>=2.6 in /opt/conda/lib/python3.7/site-packages (from nbformat->notebook->l5kit) (4.17.3)\r\n",
      "Requirement already satisfied: fastjsonschema in /opt/conda/lib/python3.7/site-packages (from nbformat->notebook->l5kit) (2.16.2)\r\n",
      "Requirement already satisfied: six>=1.5 in /opt/conda/lib/python3.7/site-packages (from python-dateutil>=2.7->matplotlib->l5kit) (1.16.0)\r\n",
      "Requirement already satisfied: ptyprocess in /opt/conda/lib/python3.7/site-packages (from terminado>=0.8.3->notebook->l5kit) (0.7.0)\r\n",
      "Requirement already satisfied: argon2-cffi-bindings in /opt/conda/lib/python3.7/site-packages (from argon2-cffi->notebook->l5kit) (21.2.0)\r\n",
      "Requirement already satisfied: charset-normalizer<4,>=2 in /opt/conda/lib/python3.7/site-packages (from requests->torchvision<1.0.0,>=0.6.0->l5kit) (2.1.1)\r\n",
      "Requirement already satisfied: urllib3<1.27,>=1.21.1 in /opt/conda/lib/python3.7/site-packages (from requests->torchvision<1.0.0,>=0.6.0->l5kit) (1.26.14)\r\n",
      "Requirement already satisfied: idna<4,>=2.5 in /opt/conda/lib/python3.7/site-packages (from requests->torchvision<1.0.0,>=0.6.0->l5kit) (3.4)\r\n",
      "Requirement already satisfied: certifi>=2017.4.17 in /opt/conda/lib/python3.7/site-packages (from requests->torchvision<1.0.0,>=0.6.0->l5kit) (2022.12.7)\r\n",
      "Requirement already satisfied: parso<0.9.0,>=0.8.0 in /opt/conda/lib/python3.7/site-packages (from jedi>=0.16->ipython>=4.0.0->ipywidgets->l5kit) (0.8.3)\r\n",
      "Requirement already satisfied: attrs>=17.4.0 in /opt/conda/lib/python3.7/site-packages (from jsonschema>=2.6->nbformat->notebook->l5kit) (22.2.0)\r\n",
      "Requirement already satisfied: pkgutil-resolve-name>=1.3.10 in /opt/conda/lib/python3.7/site-packages (from jsonschema>=2.6->nbformat->notebook->l5kit) (1.3.10)\r\n",
      "Requirement already satisfied: importlib-resources>=1.4.0 in /opt/conda/lib/python3.7/site-packages (from jsonschema>=2.6->nbformat->notebook->l5kit) (5.10.2)\r\n",
      "Requirement already satisfied: pyrsistent!=0.17.0,!=0.17.1,!=0.17.2,>=0.14.0 in /opt/conda/lib/python3.7/site-packages (from jsonschema>=2.6->nbformat->notebook->l5kit) (0.19.3)\r\n",
      "Requirement already satisfied: websocket-client in /opt/conda/lib/python3.7/site-packages (from jupyter-server>=1.8->nbclassic>=0.4.7->notebook->l5kit) (1.4.2)\r\n",
      "Requirement already satisfied: anyio<4,>=3.1.0 in /opt/conda/lib/python3.7/site-packages (from jupyter-server>=1.8->nbclassic>=0.4.7->notebook->l5kit) (3.6.2)\r\n",
      "Requirement already satisfied: wcwidth in /opt/conda/lib/python3.7/site-packages (from prompt-toolkit!=3.0.0,!=3.0.1,<3.1.0,>=2.0.0->ipython>=4.0.0->ipywidgets->l5kit) (0.2.6)\r\n",
      "Requirement already satisfied: cffi>=1.0.1 in /opt/conda/lib/python3.7/site-packages (from argon2-cffi-bindings->argon2-cffi->notebook->l5kit) (1.15.1)\r\n",
      "Requirement already satisfied: soupsieve>1.2 in /opt/conda/lib/python3.7/site-packages (from beautifulsoup4->nbconvert>=5->notebook->l5kit) (2.3.2.post1)\r\n",
      "Requirement already satisfied: webencodings in /opt/conda/lib/python3.7/site-packages (from bleach->nbconvert>=5->notebook->l5kit) (0.5.1)\r\n",
      "Requirement already satisfied: sniffio>=1.1 in /opt/conda/lib/python3.7/site-packages (from anyio<4,>=3.1.0->jupyter-server>=1.8->nbclassic>=0.4.7->notebook->l5kit) (1.3.0)\r\n",
      "Requirement already satisfied: pycparser in /opt/conda/lib/python3.7/site-packages (from cffi>=1.0.1->argon2-cffi-bindings->argon2-cffi->notebook->l5kit) (2.21)\r\n",
      "\u001b[33mWARNING: Error parsing requirements for numpy: [Errno 2] No such file or directory: '/opt/conda/lib/python3.7/site-packages/numpy-1.21.6.dist-info/METADATA'\u001b[0m\u001b[33m\r\n",
      "\u001b[0mInstalling collected packages: ptable, asciitree, transforms3d, pymap3d, numpy, opencv-contrib-python-headless, numcodecs, zarr, l5kit\r\n",
      "  Attempting uninstall: numpy\r\n",
      "\u001b[33m    WARNING: No metadata found in /opt/conda/lib/python3.7/site-packages\u001b[0m\u001b[33m\r\n",
      "\u001b[0m    Found existing installation: numpy 1.21.6\r\n",
      "\u001b[31mERROR: Cannot uninstall numpy 1.21.6, RECORD file not found. You might be able to recover from this via: 'pip install --force-reinstall --no-deps numpy==1.21.6'.\u001b[0m\u001b[31m\r\n",
      "\u001b[0mCollecting opencv-python==4.5.5.64\r\n",
      "  Downloading opencv_python-4.5.5.64-cp36-abi3-manylinux_2_17_x86_64.manylinux2014_x86_64.whl (60.5 MB)\r\n",
      "\u001b[2K     \u001b[90m━━━━━━━━━━━━━━━━━━━━━━━━━━━━━━━━━━━━━━━━\u001b[0m \u001b[32m60.5/60.5 MB\u001b[0m \u001b[31m17.2 MB/s\u001b[0m eta \u001b[36m0:00:00\u001b[0m\r\n",
      "\u001b[?25hRequirement already satisfied: numpy>=1.14.5 in /opt/conda/lib/python3.7/site-packages (from opencv-python==4.5.5.64) (1.21.6)\r\n",
      "\u001b[31mERROR: Could not install packages due to an OSError: [Errno 2] No such file or directory: '/opt/conda/lib/python3.7/site-packages/numpy-1.21.6.dist-info/METADATA'\r\n",
      "\u001b[0m\u001b[31m\r\n",
      "\u001b[0m"
     ]
    }
   ],
   "source": [
    "# This Python 3 environment comes with many helpful analytics libraries installed\n",
    "# It is defined by the kaggle/python Docker image: https://github.com/kaggle/docker-python\n",
    "# For example, here's several helpful packages to loa\n",
    "#def visualize_rgb_image(dataset, index, title=\"\", ax=None):\n",
    "     #\"\"\"Visualizes Rasterizer's RGB image\"\"\"\n",
    "    #data = dataset[index]\n",
    "    \n",
    "    #im = data[\"image\"].transpose(1, 2, 0)\n",
    "    #im = dataset.rasterizer.to_rgb(im)\n",
    "    #image = cv2.transpose(im)\n",
    "    #image = cv2.rotate(image, cv2.ROTATE_90_CLOCKWISE)\n",
    "    #image = cv2.rotate(image, cv2.ROTATE_90_CLOCKWISE)\n",
    "    #image = cv2.rotate(image, cv2.ROTATE_90_CLOCKWISE)\n",
    "   \n",
    "    \n",
    "                 \n",
    "   # if ax is None:\n",
    "   #     fig, ax = plt.subplots()\n",
    "   # if title:\n",
    "  #      ax.set_title(title)\n",
    "   # ax.imshow(image[::-1])\n",
    "    \n",
    "\n",
    "\n",
    "\n",
    "\n",
    "import numpy as np # linear algebra\n",
    "import pandas as pd # data processing, CSV file I/O (e.g. pd.read_csv)\n",
    "\n",
    "# Input data files are available in the read-only \"../input/\" directory\n",
    "# For example, running this (by clicking run or pressing Shift+Enter) will list all files under the input directory\n",
    "\n",
    "import os\n",
    "#for dirname, _, filenames in os.walk('/kaggle/input'):\n",
    "    #for filename in filenames:\n",
    "       # print(os.path.join(dirname, filename))\n",
    "\n",
    "# You can write up to 20GB to the current directory (/kaggle/working/) that gets preserved as output when you create a version using \"Save & Run All\" \n",
    "# You can also write temporary files to /kaggle/temp/, but they won't be saved outside of the current session\n",
    "import os\n",
    "\n",
    "## =====================================================================================\n",
    "## This is a temporarly fix for the freezing and the cuda issues. You can add this\n",
    "## utility script instead of kaggle_l5kit until Kaggle resolve these issues.\n",
    "## \n",
    "## You will be able to train and submit your results, but not all the functionality of\n",
    "## l5kit will work properly.\n",
    "\n",
    "## More details here:\n",
    "## https://www.kaggle.com/c/lyft-motion-prediction-autonomous-vehicles/discussion/177125\n",
    "\n",
    "## this script transports l5kit and dependencies\n",
    "os.system('pip install numpy==1.19.5')\n",
    "os.system('pip install --target=/kaggle/working pymap3d==2.1.0')\n",
    "os.system('pip install --target=/kaggle/working protobuf==3.12.2')\n",
    "os.system('pip install --target=/kaggle/working transforms3d')\n",
    "os.system('pip install --target=/kaggle/working zarr')\n",
    "os.system('pip install --target=/kaggle/working ptable')\n",
    "\n",
    "os.system('pip install --no-dependencies --target=/kaggle/working l5kit')\n",
    "!pip install l5kit\n",
    "!pip install opencv-python==4.5.5.64\n",
    "from tempfile import gettempdir\n",
    "import matplotlib.pyplot as plt\n",
    "import numpy as np\n",
    "import torch\n",
    "from torch import nn, optim\n",
    "from torch.utils.data import DataLoader\n",
    "from tqdm import tqdm\n",
    "\n",
    "from l5kit.configs import load_config_data\n",
    "from l5kit.data import LocalDataManager, ChunkedDataset\n",
    "from l5kit.dataset import EgoDataset\n",
    "from l5kit.rasterization import build_rasterizer\n",
    "from l5kit.geometry import transform_points\n",
    "from l5kit.visualization import TARGET_POINTS_COLOR, draw_trajectory,draw_reference_trajectory\n",
    "from l5kit.planning.rasterized.model import RasterizedPlanningModel\n",
    "from l5kit.kinematic import AckermanPerturbation\n",
    "from l5kit.random import GaussianRandomGenerator\n",
    "from prettytable import PrettyTable\n",
    "from l5kit.data import PERCEPTION_LABELS\n",
    "from l5kit.dataset import EgoDataset, AgentDataset\n",
    "\n",
    "import os\n",
    "\n"
   ]
  },
  {
   "cell_type": "code",
   "execution_count": 2,
   "id": "68ae2d9f",
   "metadata": {
    "execution": {
     "iopub.execute_input": "2023-03-13T11:33:43.635666Z",
     "iopub.status.busy": "2023-03-13T11:33:43.635215Z",
     "iopub.status.idle": "2023-03-13T11:33:45.107621Z",
     "shell.execute_reply": "2023-03-13T11:33:45.106271Z"
    },
    "papermill": {
     "duration": 1.49593,
     "end_time": "2023-03-13T11:33:45.110748",
     "exception": false,
     "start_time": "2023-03-13T11:33:43.614818",
     "status": "completed"
    },
    "tags": []
   },
   "outputs": [
    {
     "name": "stdout",
     "output_type": "stream",
     "text": [
      "Traceback (most recent call last):\r\n",
      "  File \"/opt/conda/bin/kaggle\", line 5, in <module>\r\n",
      "    from kaggle.cli import main\r\n",
      "  File \"/opt/conda/lib/python3.7/site-packages/kaggle/__init__.py\", line 23, in <module>\r\n",
      "    api.authenticate()\r\n",
      "  File \"/opt/conda/lib/python3.7/site-packages/kaggle/api/kaggle_api_extended.py\", line 166, in authenticate\r\n",
      "    self.config_file, self.config_dir))\r\n",
      "OSError: Could not find kaggle.json. Make sure it's located in /root/.kaggle. Or use the environment method.\r\n"
     ]
    }
   ],
   "source": [
    "!kaggle competitions download -c lyft-motion-prediction-autonomous-vehicles"
   ]
  },
  {
   "cell_type": "code",
   "execution_count": 3,
   "id": "cabe9622",
   "metadata": {
    "execution": {
     "iopub.execute_input": "2023-03-13T11:33:45.151379Z",
     "iopub.status.busy": "2023-03-13T11:33:45.150902Z",
     "iopub.status.idle": "2023-03-13T11:33:45.204450Z",
     "shell.execute_reply": "2023-03-13T11:33:45.202393Z"
    },
    "papermill": {
     "duration": 0.077717,
     "end_time": "2023-03-13T11:33:45.207522",
     "exception": false,
     "start_time": "2023-03-13T11:33:45.129805",
     "status": "completed"
    },
    "tags": []
   },
   "outputs": [
    {
     "name": "stdout",
     "output_type": "stream",
     "text": [
      "{'format_version': 4, 'model_params': {'model_architecture': 'resnet50', 'history_num_frames': 0, 'history_step_size': 1, 'history_delta_time': 0.1, 'future_num_frames': 50, 'future_step_size': 1, 'future_delta_time': 0.1}, 'raster_params': {'raster_size': [224, 224], 'pixel_size': [0.5, 0.5], 'ego_center': [0.25, 0.5], 'map_type': 'py_semantic', 'satellite_map_key': 'aerial_map/aerial_map.png', 'semantic_map_key': 'semantic_map/semantic_map.pb', 'dataset_meta_key': 'meta.json', 'filter_agents_threshold': 0.5}, 'val_data_loader': {'key': 'scenes/sample.zarr', 'batch_size': 12, 'shuffle': False, 'num_workers': 16}}\n"
     ]
    }
   ],
   "source": [
    "import os, gc\n",
    "import zarr\n",
    "train = zarr.open(\"../input/lyft-motion-prediction-autonomous-vehicles/scenes/train.zarr\")\n",
    "#validation = zarr.open(\"../input/lyft-motion-prediction-autonomous-vehicles/scenes/validate.zarr\")\n",
    "test = zarr.open(\"../input/lyft-motion-prediction-autonomous-vehicles/scenes/test.zarr/\")\n",
    "train.info\n",
    "os.environ[\"L5KIT_DATA_FOLDER\"] = \"../input/lyft-motion-prediction-autonomous-vehicles\"\n",
    "\n",
    "# get configuration yaml\n",
    "cfg = load_config_data(\"../input/lyft-config-files/visualisation_config.yaml\")\n",
    "print(cfg)"
   ]
  },
  {
   "cell_type": "code",
   "execution_count": null,
   "id": "e629fa80",
   "metadata": {
    "papermill": {
     "duration": 0.01897,
     "end_time": "2023-03-13T11:33:45.245686",
     "exception": false,
     "start_time": "2023-03-13T11:33:45.226716",
     "status": "completed"
    },
    "tags": []
   },
   "outputs": [],
   "source": []
  },
  {
   "cell_type": "code",
   "execution_count": null,
   "id": "8b47ce36",
   "metadata": {
    "papermill": {
     "duration": 0.018925,
     "end_time": "2023-03-13T11:33:45.284277",
     "exception": false,
     "start_time": "2023-03-13T11:33:45.265352",
     "status": "completed"
    },
    "tags": []
   },
   "outputs": [],
   "source": []
  },
  {
   "cell_type": "code",
   "execution_count": null,
   "id": "206b949b",
   "metadata": {
    "papermill": {
     "duration": 0.019245,
     "end_time": "2023-03-13T11:33:45.322620",
     "exception": false,
     "start_time": "2023-03-13T11:33:45.303375",
     "status": "completed"
    },
    "tags": []
   },
   "outputs": [],
   "source": []
  },
  {
   "cell_type": "code",
   "execution_count": null,
   "id": "3e97c3d0",
   "metadata": {
    "papermill": {
     "duration": 0.018678,
     "end_time": "2023-03-13T11:33:45.360433",
     "exception": false,
     "start_time": "2023-03-13T11:33:45.341755",
     "status": "completed"
    },
    "tags": []
   },
   "outputs": [],
   "source": []
  },
  {
   "cell_type": "code",
   "execution_count": null,
   "id": "db07871a",
   "metadata": {
    "papermill": {
     "duration": 0.019647,
     "end_time": "2023-03-13T11:33:45.399148",
     "exception": false,
     "start_time": "2023-03-13T11:33:45.379501",
     "status": "completed"
    },
    "tags": []
   },
   "outputs": [],
   "source": []
  },
  {
   "cell_type": "code",
   "execution_count": 4,
   "id": "7aac7f2c",
   "metadata": {
    "execution": {
     "iopub.execute_input": "2023-03-13T11:33:45.440595Z",
     "iopub.status.busy": "2023-03-13T11:33:45.439522Z",
     "iopub.status.idle": "2023-03-13T11:33:45.444719Z",
     "shell.execute_reply": "2023-03-13T11:33:45.443770Z"
    },
    "papermill": {
     "duration": 0.028674,
     "end_time": "2023-03-13T11:33:45.447176",
     "exception": false,
     "start_time": "2023-03-13T11:33:45.418502",
     "status": "completed"
    },
    "tags": []
   },
   "outputs": [],
   "source": [
    "dm = LocalDataManager()\n"
   ]
  },
  {
   "cell_type": "code",
   "execution_count": null,
   "id": "a4db901d",
   "metadata": {
    "papermill": {
     "duration": 0.01879,
     "end_time": "2023-03-13T11:33:45.484872",
     "exception": false,
     "start_time": "2023-03-13T11:33:45.466082",
     "status": "completed"
    },
    "tags": []
   },
   "outputs": [],
   "source": []
  },
  {
   "cell_type": "code",
   "execution_count": null,
   "id": "2697ff19",
   "metadata": {
    "papermill": {
     "duration": 0.018569,
     "end_time": "2023-03-13T11:33:45.522332",
     "exception": false,
     "start_time": "2023-03-13T11:33:45.503763",
     "status": "completed"
    },
    "tags": []
   },
   "outputs": [],
   "source": []
  },
  {
   "cell_type": "code",
   "execution_count": null,
   "id": "80c2965a",
   "metadata": {
    "papermill": {
     "duration": 0.018662,
     "end_time": "2023-03-13T11:33:45.559896",
     "exception": false,
     "start_time": "2023-03-13T11:33:45.541234",
     "status": "completed"
    },
    "tags": []
   },
   "outputs": [],
   "source": []
  },
  {
   "cell_type": "code",
   "execution_count": null,
   "id": "b572e01b",
   "metadata": {
    "papermill": {
     "duration": 0.018511,
     "end_time": "2023-03-13T11:33:45.597273",
     "exception": false,
     "start_time": "2023-03-13T11:33:45.578762",
     "status": "completed"
    },
    "tags": []
   },
   "outputs": [],
   "source": []
  },
  {
   "cell_type": "code",
   "execution_count": null,
   "id": "e813febb",
   "metadata": {
    "papermill": {
     "duration": 0.018491,
     "end_time": "2023-03-13T11:33:45.634665",
     "exception": false,
     "start_time": "2023-03-13T11:33:45.616174",
     "status": "completed"
    },
    "tags": []
   },
   "outputs": [],
   "source": []
  },
  {
   "cell_type": "code",
   "execution_count": null,
   "id": "6b80400a",
   "metadata": {
    "papermill": {
     "duration": 0.018652,
     "end_time": "2023-03-13T11:33:45.672286",
     "exception": false,
     "start_time": "2023-03-13T11:33:45.653634",
     "status": "completed"
    },
    "tags": []
   },
   "outputs": [],
   "source": []
  },
  {
   "cell_type": "code",
   "execution_count": null,
   "id": "ebd3a33c",
   "metadata": {
    "papermill": {
     "duration": 0.018503,
     "end_time": "2023-03-13T11:33:45.709665",
     "exception": false,
     "start_time": "2023-03-13T11:33:45.691162",
     "status": "completed"
    },
    "tags": []
   },
   "outputs": [],
   "source": []
  },
  {
   "cell_type": "code",
   "execution_count": null,
   "id": "a57b136e",
   "metadata": {
    "papermill": {
     "duration": 0.018836,
     "end_time": "2023-03-13T11:33:45.747357",
     "exception": false,
     "start_time": "2023-03-13T11:33:45.728521",
     "status": "completed"
    },
    "tags": []
   },
   "outputs": [],
   "source": []
  },
  {
   "cell_type": "code",
   "execution_count": null,
   "id": "d841a36f",
   "metadata": {
    "papermill": {
     "duration": 0.01909,
     "end_time": "2023-03-13T11:33:45.785316",
     "exception": false,
     "start_time": "2023-03-13T11:33:45.766226",
     "status": "completed"
    },
    "tags": []
   },
   "outputs": [],
   "source": []
  },
  {
   "cell_type": "code",
   "execution_count": null,
   "id": "2fea9ca7",
   "metadata": {
    "papermill": {
     "duration": 0.019153,
     "end_time": "2023-03-13T11:33:45.823760",
     "exception": false,
     "start_time": "2023-03-13T11:33:45.804607",
     "status": "completed"
    },
    "tags": []
   },
   "outputs": [],
   "source": []
  },
  {
   "cell_type": "code",
   "execution_count": null,
   "id": "d98930bc",
   "metadata": {
    "papermill": {
     "duration": 0.018669,
     "end_time": "2023-03-13T11:33:45.861748",
     "exception": false,
     "start_time": "2023-03-13T11:33:45.843079",
     "status": "completed"
    },
    "tags": []
   },
   "outputs": [],
   "source": []
  },
  {
   "cell_type": "code",
   "execution_count": null,
   "id": "25139fbe",
   "metadata": {
    "papermill": {
     "duration": 0.018622,
     "end_time": "2023-03-13T11:33:45.901646",
     "exception": false,
     "start_time": "2023-03-13T11:33:45.883024",
     "status": "completed"
    },
    "tags": []
   },
   "outputs": [],
   "source": []
  },
  {
   "cell_type": "code",
   "execution_count": null,
   "id": "42cbd822",
   "metadata": {
    "papermill": {
     "duration": 0.018629,
     "end_time": "2023-03-13T11:33:45.939173",
     "exception": false,
     "start_time": "2023-03-13T11:33:45.920544",
     "status": "completed"
    },
    "tags": []
   },
   "outputs": [],
   "source": []
  },
  {
   "cell_type": "code",
   "execution_count": null,
   "id": "97368e26",
   "metadata": {
    "papermill": {
     "duration": 0.018793,
     "end_time": "2023-03-13T11:33:45.976897",
     "exception": false,
     "start_time": "2023-03-13T11:33:45.958104",
     "status": "completed"
    },
    "tags": []
   },
   "outputs": [],
   "source": []
  },
  {
   "cell_type": "code",
   "execution_count": null,
   "id": "b04adcb7",
   "metadata": {
    "papermill": {
     "duration": 0.018584,
     "end_time": "2023-03-13T11:33:46.014260",
     "exception": false,
     "start_time": "2023-03-13T11:33:45.995676",
     "status": "completed"
    },
    "tags": []
   },
   "outputs": [],
   "source": []
  },
  {
   "cell_type": "code",
   "execution_count": null,
   "id": "b911a9b0",
   "metadata": {
    "papermill": {
     "duration": 0.01922,
     "end_time": "2023-03-13T11:33:46.052373",
     "exception": false,
     "start_time": "2023-03-13T11:33:46.033153",
     "status": "completed"
    },
    "tags": []
   },
   "outputs": [],
   "source": []
  },
  {
   "cell_type": "code",
   "execution_count": null,
   "id": "ed3c1aba",
   "metadata": {
    "papermill": {
     "duration": 0.018754,
     "end_time": "2023-03-13T11:33:46.090003",
     "exception": false,
     "start_time": "2023-03-13T11:33:46.071249",
     "status": "completed"
    },
    "tags": []
   },
   "outputs": [],
   "source": []
  },
  {
   "cell_type": "code",
   "execution_count": null,
   "id": "5893be57",
   "metadata": {
    "papermill": {
     "duration": 0.018692,
     "end_time": "2023-03-13T11:33:46.129186",
     "exception": false,
     "start_time": "2023-03-13T11:33:46.110494",
     "status": "completed"
    },
    "tags": []
   },
   "outputs": [],
   "source": []
  },
  {
   "cell_type": "code",
   "execution_count": null,
   "id": "13fd4655",
   "metadata": {
    "papermill": {
     "duration": 0.018684,
     "end_time": "2023-03-13T11:33:46.166789",
     "exception": false,
     "start_time": "2023-03-13T11:33:46.148105",
     "status": "completed"
    },
    "tags": []
   },
   "outputs": [],
   "source": []
  },
  {
   "cell_type": "code",
   "execution_count": null,
   "id": "464f1c77",
   "metadata": {
    "papermill": {
     "duration": 0.018686,
     "end_time": "2023-03-13T11:33:46.204493",
     "exception": false,
     "start_time": "2023-03-13T11:33:46.185807",
     "status": "completed"
    },
    "tags": []
   },
   "outputs": [],
   "source": []
  },
  {
   "cell_type": "code",
   "execution_count": 5,
   "id": "b3cc3be7",
   "metadata": {
    "execution": {
     "iopub.execute_input": "2023-03-13T11:33:46.244473Z",
     "iopub.status.busy": "2023-03-13T11:33:46.244070Z",
     "iopub.status.idle": "2023-03-13T11:33:46.255826Z",
     "shell.execute_reply": "2023-03-13T11:33:46.254732Z"
    },
    "papermill": {
     "duration": 0.03483,
     "end_time": "2023-03-13T11:33:46.258161",
     "exception": false,
     "start_time": "2023-03-13T11:33:46.223331",
     "status": "completed"
    },
    "tags": []
   },
   "outputs": [],
   "source": [
    "DEBUG = True\n",
    "\n",
    "# training cfg\n",
    "training_cfg = {\n",
    "    \n",
    "    'format_version': 4,\n",
    "    \n",
    "     ## Model options\n",
    "    'model_params': {\n",
    "        'model_architecture': 'resnet34',\n",
    "        'history_num_frames': 20,\n",
    "        'history_step_size': 1,\n",
    "        'history_delta_time': 0.1,\n",
    "        'future_num_frames': 30,\n",
    "        'future_step_size': 1,\n",
    "        'future_delta_time': 0.1,\n",
    "        'step_time': 0.1,\n",
    "         \n",
    "        'render_ego_history': True\n",
    "        \n",
    "    },\n",
    "\n",
    "    ## Input raster parameters\n",
    "    'raster_params': {\n",
    "        \n",
    "        'raster_size': [224, 224], # raster's spatial resolution [meters per pixel]: the size in the real world one pixel corresponds to.\n",
    "        'pixel_size': [0.5, 0.5], # From 0 to 1 per axis, [0.5,0.5] would show the ego centered in the image.\n",
    "        'ego_center': [0.25, 0.5],\n",
    "        'map_type': \"py_semantic\",\n",
    "        \n",
    "        # the keys are relative to the dataset environment variable\n",
    "        'satellite_map_key': \"aerial_map/aerial_map.png\",\n",
    "        'semantic_map_key': \"semantic_map/semantic_map.pb\",\n",
    "        'dataset_meta_key': \"meta.json\",\n",
    "\n",
    "        # e.g. 0.0 include every obstacle, 0.5 show those obstacles with >0.5 probability of being\n",
    "        # one of the classes we care about (cars, bikes, peds, etc.), >=1.0 filter all other agents.\n",
    "        'filter_agents_threshold': 0.5,\n",
    "         'disable_traffic_light_faces': False,\n",
    "        'set_origin_to_bottom': False\n",
    "    },\n",
    "\n",
    "    ## Data loader options\n",
    "    'train_data_loader': {\n",
    "        'key': \"scenes/sample.zarr\",\n",
    "        'batch_size': 12,\n",
    "        'shuffle': True,\n",
    "        'num_workers': 2\n",
    "    },\n",
    "\n",
    "    ## Train params\n",
    "    'train_params': {\n",
    "        'checkpoint_every_n_steps': 5000,\n",
    "        'max_num_steps': 100 if DEBUG else 10000\n",
    "    }\n",
    "}\n",
    "\n",
    "# inference cfg\n",
    "inference_cfg = {\n",
    "    \n",
    "    'format_version': 4,\n",
    "    'model_params': {\n",
    "        'history_num_frames': 20,\n",
    "        'history_step_size': 1,\n",
    "        'history_delta_time': 0.1,\n",
    "        'future_num_frames': 30,\n",
    "        'future_step_size': 1,\n",
    "        'future_delta_time': 0.1,\n",
    "        'step_time': 0.1,\n",
    "        'render_ego_history': True\n",
    "    },\n",
    "    \n",
    "    'raster_params': {\n",
    "        'raster_size': [300, 300],\n",
    "        'pixel_size': [0.5, 0.5],\n",
    "        'ego_center': [0.25, 0.5],\n",
    "        'map_type': 'py_semantic',\n",
    "        'satellite_map_key': 'aerial_map/aerial_map.png',\n",
    "        'semantic_map_key': 'semantic_map/semantic_map.pb',\n",
    "        'dataset_meta_key': 'meta.json',\n",
    "        'filter_agents_threshold': 0.5,\n",
    "        'disable_traffic_light_faces': False,\n",
    "        'set_origin_to_bottom': False\n",
    "    },\n",
    "    \n",
    "        'test_data_loader': {\n",
    "        'key': 'scenes/test.zarr',\n",
    "        'batch_size': 8,\n",
    "        'shuffle': False,\n",
    "        'num_workers': 2\n",
    "    }\n",
    "\n",
    "}"
   ]
  },
  {
   "cell_type": "code",
   "execution_count": 6,
   "id": "3476a5e2",
   "metadata": {
    "execution": {
     "iopub.execute_input": "2023-03-13T11:33:46.300747Z",
     "iopub.status.busy": "2023-03-13T11:33:46.299870Z",
     "iopub.status.idle": "2023-03-13T11:33:46.307113Z",
     "shell.execute_reply": "2023-03-13T11:33:46.305597Z"
    },
    "papermill": {
     "duration": 0.032054,
     "end_time": "2023-03-13T11:33:46.309811",
     "exception": false,
     "start_time": "2023-03-13T11:33:46.277757",
     "status": "completed"
    },
    "tags": []
   },
   "outputs": [
    {
     "name": "stdout",
     "output_type": "stream",
     "text": [
      "{'format_version': 4, 'model_params': {'model_architecture': 'resnet34', 'history_num_frames': 20, 'history_step_size': 1, 'history_delta_time': 0.1, 'future_num_frames': 30, 'future_step_size': 1, 'future_delta_time': 0.1, 'step_time': 0.1, 'render_ego_history': True}, 'raster_params': {'raster_size': [224, 224], 'pixel_size': [0.5, 0.5], 'ego_center': [0.25, 0.5], 'map_type': 'py_semantic', 'satellite_map_key': 'aerial_map/aerial_map.png', 'semantic_map_key': 'semantic_map/semantic_map.pb', 'dataset_meta_key': 'meta.json', 'filter_agents_threshold': 0.5, 'disable_traffic_light_faces': False, 'set_origin_to_bottom': False}, 'train_data_loader': {'key': 'scenes/sample.zarr', 'batch_size': 12, 'shuffle': True, 'num_workers': 2}, 'train_params': {'checkpoint_every_n_steps': 5000, 'max_num_steps': 100}}\n"
     ]
    }
   ],
   "source": [
    "# root directory\n",
    "DIR_INPUT = \"/kaggle/input/lyft-motion-prediction-autonomous-vehicles\"\n",
    "\n",
    "#submission\n",
    "SINGLE_MODE_SUBMISSION = f\"{DIR_INPUT}/single_mode_sample_submission.csv\"\n",
    "MULTI_MODE_SUBMISSION = f\"{DIR_INPUT}/multi_mode_sample_submission.csv\"\n",
    "\n",
    "# set env variable for data\n",
    "os.environ[\"L5KIT_DATA_FOLDER\"] = DIR_INPUT\n",
    "dm = LocalDataManager(None)\n",
    "print(training_cfg)"
   ]
  },
  {
   "cell_type": "code",
   "execution_count": 7,
   "id": "777637a3",
   "metadata": {
    "execution": {
     "iopub.execute_input": "2023-03-13T11:33:46.350938Z",
     "iopub.status.busy": "2023-03-13T11:33:46.350139Z",
     "iopub.status.idle": "2023-03-13T11:33:52.318549Z",
     "shell.execute_reply": "2023-03-13T11:33:52.317292Z"
    },
    "papermill": {
     "duration": 5.992525,
     "end_time": "2023-03-13T11:33:52.321568",
     "exception": false,
     "start_time": "2023-03-13T11:33:46.329043",
     "status": "completed"
    },
    "tags": []
   },
   "outputs": [
    {
     "name": "stdout",
     "output_type": "stream",
     "text": [
      "scenes/sample.zarr\n"
     ]
    }
   ],
   "source": [
    "# training cfg\n",
    "train_cfg = training_cfg[\"train_data_loader\"]\n",
    "\n",
    "# rasterizer\n",
    "rasterizer = build_rasterizer(training_cfg, dm)\n",
    "\n",
    "# dataloader\n",
    "train_zarr = ChunkedDataset(dm.require(train_cfg[\"key\"])).open()\n",
    "print(train_cfg[\"key\"])\n",
    "train_dataset = AgentDataset(training_cfg, train_zarr, rasterizer)\n",
    "train_dataloader = DataLoader(train_dataset, shuffle=train_cfg[\"shuffle\"], batch_size=train_cfg[\"batch_size\"], \n",
    "                             num_workers=train_cfg[\"num_workers\"])\n"
   ]
  },
  {
   "cell_type": "code",
   "execution_count": 8,
   "id": "794320ed",
   "metadata": {
    "execution": {
     "iopub.execute_input": "2023-03-13T11:33:52.363266Z",
     "iopub.status.busy": "2023-03-13T11:33:52.362819Z",
     "iopub.status.idle": "2023-03-13T11:33:52.657418Z",
     "shell.execute_reply": "2023-03-13T11:33:52.655694Z"
    },
    "papermill": {
     "duration": 0.320039,
     "end_time": "2023-03-13T11:33:52.660906",
     "exception": false,
     "start_time": "2023-03-13T11:33:52.340867",
     "status": "completed"
    },
    "tags": []
   },
   "outputs": [
    {
     "data": {
      "text/plain": [
       "dict_keys(['frame_index', 'image', 'target_positions', 'target_yaws', 'target_velocities', 'target_availabilities', 'history_positions', 'history_yaws', 'history_velocities', 'history_availabilities', 'world_to_image', 'raster_from_agent', 'raster_from_world', 'agent_from_world', 'world_from_agent', 'centroid', 'yaw', 'extent', 'history_extents', 'future_extents', 'curr_speed', 'scene_index', 'host_id', 'timestamp', 'track_id'])"
      ]
     },
     "execution_count": 8,
     "metadata": {},
     "output_type": "execute_result"
    }
   ],
   "source": [
    "a=train_dataset[50]\n",
    "a.keys()\n"
   ]
  },
  {
   "cell_type": "code",
   "execution_count": 9,
   "id": "96fb0a70",
   "metadata": {
    "execution": {
     "iopub.execute_input": "2023-03-13T11:33:52.719061Z",
     "iopub.status.busy": "2023-03-13T11:33:52.718658Z",
     "iopub.status.idle": "2023-03-13T11:33:52.731830Z",
     "shell.execute_reply": "2023-03-13T11:33:52.730275Z"
    },
    "papermill": {
     "duration": 0.044526,
     "end_time": "2023-03-13T11:33:52.734825",
     "exception": false,
     "start_time": "2023-03-13T11:33:52.690299",
     "status": "completed"
    },
    "tags": []
   },
   "outputs": [],
   "source": [
    "class LyftModel(nn.Module):\n",
    "    \n",
    "    def __init__(self, cfg):\n",
    "        super().__init__()\n",
    "        \n",
    "        # set pretrained=True while training\n",
    "        self.backbone = resnet34(pretrained=True) \n",
    "        \n",
    "        num_history_channels = (cfg[\"model_params\"][\"history_num_frames\"] + 1) * 2\n",
    "        num_in_channels = 3 + num_history_channels\n",
    "\n",
    "        self.backbone.conv1 = nn.Conv2d(\n",
    "            num_in_channels,\n",
    "            self.backbone.conv1.out_channels,\n",
    "            kernel_size=self.backbone.conv1.kernel_size,\n",
    "            stride=self.backbone.conv1.stride,\n",
    "            padding=self.backbone.conv1.padding,\n",
    "            bias=False,\n",
    "        )\n",
    "        \n",
    "        # This is 512 for resnet18 and resnet34;\n",
    "        # And it is 2048 for the other resnets\n",
    "        backbone_out_features = 512\n",
    "        \n",
    "        # X, Y coords for the future positions (output shape: Bx50x2)\n",
    "        num_targets = 2 * cfg[\"model_params\"][\"future_num_frames\"]\n",
    "\n",
    "        # You can add more layers here.\n",
    "        self.head = nn.Sequential(\n",
    "            # nn.Dropout(0.2),\n",
    "            nn.Linear(in_features=backbone_out_features, out_features=4096),\n",
    "        )\n",
    "\n",
    "        self.logit = nn.Linear(4096, out_features=num_targets)\n",
    "        \n",
    "    def forward(self, x):\n",
    "        x = self.backbone.conv1(x)\n",
    "        x = self.backbone.bn1(x)\n",
    "        x = self.backbone.relu(x)\n",
    "        x = self.backbone.maxpool(x)\n",
    "\n",
    "        x = self.backbone.layer1(x)\n",
    "        x = self.backbone.layer2(x)\n",
    "        x = self.backbone.layer3(x)\n",
    "        x = self.backbone.layer4(x)\n",
    "\n",
    "        x = self.backbone.avgpool(x)\n",
    "        x = torch.flatten(x, 1)\n",
    "        \n",
    "        x = self.head(x)\n",
    "        x = self.logit(x)\n",
    "        \n",
    "        return x"
   ]
  },
  {
   "cell_type": "code",
   "execution_count": 10,
   "id": "3ba1722b",
   "metadata": {
    "execution": {
     "iopub.execute_input": "2023-03-13T11:33:52.780634Z",
     "iopub.status.busy": "2023-03-13T11:33:52.780155Z",
     "iopub.status.idle": "2023-03-13T11:33:53.951843Z",
     "shell.execute_reply": "2023-03-13T11:33:53.950591Z"
    },
    "papermill": {
     "duration": 1.196012,
     "end_time": "2023-03-13T11:33:53.954861",
     "exception": false,
     "start_time": "2023-03-13T11:33:52.758849",
     "status": "completed"
    },
    "tags": []
   },
   "outputs": [
    {
     "name": "stderr",
     "output_type": "stream",
     "text": [
      "/opt/conda/lib/python3.7/site-packages/torchvision/models/_utils.py:209: UserWarning: The parameter 'pretrained' is deprecated since 0.13 and may be removed in the future, please use 'weights' instead.\n",
      "  f\"The parameter '{pretrained_param}' is deprecated since 0.13 and may be removed in the future, \"\n",
      "/opt/conda/lib/python3.7/site-packages/torchvision/models/_utils.py:223: UserWarning: Arguments other than a weight enum or `None` for 'weights' are deprecated since 0.13 and may be removed in the future. The current behavior is equivalent to passing `weights=ResNet34_Weights.IMAGENET1K_V1`. You can also use `weights=ResNet34_Weights.DEFAULT` to get the most up-to-date weights.\n",
      "  warnings.warn(msg)\n",
      "Downloading: \"https://download.pytorch.org/models/resnet34-b627a593.pth\" to /root/.cache/torch/hub/checkpoints/resnet34-b627a593.pth\n"
     ]
    },
    {
     "data": {
      "application/vnd.jupyter.widget-view+json": {
       "model_id": "8af21cdf8ad54c639a7413044b76b62d",
       "version_major": 2,
       "version_minor": 0
      },
      "text/plain": [
       "  0%|          | 0.00/83.3M [00:00<?, ?B/s]"
      ]
     },
     "metadata": {},
     "output_type": "display_data"
    }
   ],
   "source": [
    "from torchvision.models.resnet import resnet34\n",
    "device = torch.device(\"cuda:0\" if torch.cuda.is_available() else \"cpu\")\n",
    "model = LyftModel(training_cfg).to(device)\n",
    "optimizer = optim.Adam(model.parameters(), lr=1e-3)\n",
    "criterion = nn.MSELoss(reduction=\"none\")"
   ]
  },
  {
   "cell_type": "code",
   "execution_count": 11,
   "id": "c192e32a",
   "metadata": {
    "execution": {
     "iopub.execute_input": "2023-03-13T11:33:53.996224Z",
     "iopub.status.busy": "2023-03-13T11:33:53.995771Z",
     "iopub.status.idle": "2023-03-13T11:34:09.339611Z",
     "shell.execute_reply": "2023-03-13T11:34:09.338022Z"
    },
    "papermill": {
     "duration": 15.367953,
     "end_time": "2023-03-13T11:34:09.342854",
     "exception": false,
     "start_time": "2023-03-13T11:33:53.974901",
     "status": "completed"
    },
    "tags": []
   },
   "outputs": [
    {
     "name": "stderr",
     "output_type": "stream",
     "text": [
      "/opt/conda/lib/python3.7/site-packages/ipykernel_launcher.py:9: RuntimeWarning: you're running with a custom agents_mask\n",
      "  if __name__ == \"__main__\":\n"
     ]
    },
    {
     "name": "stdout",
     "output_type": "stream",
     "text": [
      "<torch.utils.data.dataloader.DataLoader object at 0x7f0c2b2b21d0>\n"
     ]
    }
   ],
   "source": [
    "test_cfg = inference_cfg[\"test_data_loader\"]\n",
    "\n",
    "# Rasterizer\n",
    "rasterizer = build_rasterizer(inference_cfg, dm)\n",
    "\n",
    "# Test dataset/dataloader\n",
    "test_zarr = ChunkedDataset(dm.require(test_cfg[\"key\"])).open()\n",
    "test_mask = np.load(f\"{DIR_INPUT}/scenes/mask.npz\")[\"arr_0\"]\n",
    "test_dataset = AgentDataset(inference_cfg, test_zarr, rasterizer, agents_mask=test_mask)\n",
    "test_dataloader = DataLoader(test_dataset,\n",
    "                             shuffle=test_cfg[\"shuffle\"],\n",
    "                             batch_size=test_cfg[\"batch_size\"],\n",
    "                             num_workers=test_cfg[\"num_workers\"])\n",
    "\n",
    "\n",
    "print(test_dataloader)"
   ]
  },
  {
   "cell_type": "code",
   "execution_count": null,
   "id": "84b9e925",
   "metadata": {
    "papermill": {
     "duration": 0.019373,
     "end_time": "2023-03-13T11:34:09.383183",
     "exception": false,
     "start_time": "2023-03-13T11:34:09.363810",
     "status": "completed"
    },
    "tags": []
   },
   "outputs": [],
   "source": []
  },
  {
   "cell_type": "code",
   "execution_count": 12,
   "id": "960521d1",
   "metadata": {
    "execution": {
     "iopub.execute_input": "2023-03-13T11:34:09.424895Z",
     "iopub.status.busy": "2023-03-13T11:34:09.423653Z",
     "iopub.status.idle": "2023-03-13T11:41:38.991824Z",
     "shell.execute_reply": "2023-03-13T11:41:38.988486Z"
    },
    "papermill": {
     "duration": 449.592973,
     "end_time": "2023-03-13T11:41:38.995686",
     "exception": false,
     "start_time": "2023-03-13T11:34:09.402713",
     "status": "completed"
    },
    "tags": []
   },
   "outputs": [
    {
     "name": "stderr",
     "output_type": "stream",
     "text": [
      "loss: 7.262913227081299 loss(avg): 15.298997193574905: 100%|██████████| 100/100 [07:29<00:00,  4.49s/it]\n"
     ]
    }
   ],
   "source": [
    "# training loop\n",
    "tr_it = iter(train_dataloader)\n",
    "progress_bar = tqdm(range(training_cfg[\"train_params\"][\"max_num_steps\"]))\n",
    "\n",
    "losses_train = []\n",
    "\n",
    "for _ in progress_bar:\n",
    "    try:\n",
    "        data = next(tr_it)\n",
    "    except StopIteration:\n",
    "        tr_it = iter(train_dataloader)\n",
    "        data = next(tr_it)\n",
    "    model.train()\n",
    "    torch.set_grad_enabled(True)\n",
    "    \n",
    "    # forward pass\n",
    "    inputs = data[\"image\"].to(device)\n",
    "    target_availabilities = data[\"target_availabilities\"].unsqueeze(-1).to(device)\n",
    "    targets = data[\"target_positions\"].to(device)\n",
    "    \n",
    "    outputs = model(inputs).reshape(targets.shape)\n",
    "    loss = criterion(outputs, targets)\n",
    "\n",
    "    # not all the output steps are valid, but we can filter them out from the loss using availabilities\n",
    "    loss = loss * target_availabilities\n",
    "    loss = loss.mean()\n",
    "    # Backward pass\n",
    "    optimizer.zero_grad()\n",
    "    loss.backward()\n",
    "    optimizer.step()\n",
    "\n",
    "    losses_train.append(loss.item())\n",
    "        \n",
    "    progress_bar.set_description(f\"loss: {loss.item()} loss(avg): {np.mean(losses_train)}\")"
   ]
  },
  {
   "cell_type": "code",
   "execution_count": 13,
   "id": "bb1c6dd3",
   "metadata": {
    "execution": {
     "iopub.execute_input": "2023-03-13T11:41:39.066306Z",
     "iopub.status.busy": "2023-03-13T11:41:39.065691Z",
     "iopub.status.idle": "2023-03-13T11:41:39.076537Z",
     "shell.execute_reply": "2023-03-13T11:41:39.075033Z"
    },
    "papermill": {
     "duration": 0.049612,
     "end_time": "2023-03-13T11:41:39.079276",
     "exception": false,
     "start_time": "2023-03-13T11:41:39.029664",
     "status": "completed"
    },
    "tags": []
   },
   "outputs": [
    {
     "data": {
      "text/plain": [
       "'plt.plot(np.arange(len(losses_train)), losses_train, label=\"train loss\")\\nplt.legend()\\nplt.show()'"
      ]
     },
     "execution_count": 13,
     "metadata": {},
     "output_type": "execute_result"
    }
   ],
   "source": [
    "\"\"\"plt.plot(np.arange(len(losses_train)), losses_train, label=\"train loss\")\n",
    "plt.legend()\n",
    "plt.show()\"\"\""
   ]
  },
  {
   "cell_type": "code",
   "execution_count": 14,
   "id": "47502da4",
   "metadata": {
    "execution": {
     "iopub.execute_input": "2023-03-13T11:41:39.147029Z",
     "iopub.status.busy": "2023-03-13T11:41:39.146582Z",
     "iopub.status.idle": "2023-03-13T11:41:39.239853Z",
     "shell.execute_reply": "2023-03-13T11:41:39.238411Z"
    },
    "papermill": {
     "duration": 0.130672,
     "end_time": "2023-03-13T11:41:39.242822",
     "exception": false,
     "start_time": "2023-03-13T11:41:39.112150",
     "status": "completed"
    },
    "tags": []
   },
   "outputs": [],
   "source": [
    "from l5kit.evaluation import write_pred_csv, compute_metrics_csv, read_gt_csv, create_chopped_dataset\n",
    "from l5kit.evaluation.chop_dataset import MIN_FUTURE_STEPS\n",
    "import shutil"
   ]
  },
  {
   "cell_type": "code",
   "execution_count": 15,
   "id": "2c84282f",
   "metadata": {
    "execution": {
     "iopub.execute_input": "2023-03-13T11:41:39.310833Z",
     "iopub.status.busy": "2023-03-13T11:41:39.309644Z",
     "iopub.status.idle": "2023-03-13T11:41:51.883993Z",
     "shell.execute_reply": "2023-03-13T11:41:51.882751Z"
    },
    "papermill": {
     "duration": 12.61122,
     "end_time": "2023-03-13T11:41:51.886594",
     "exception": false,
     "start_time": "2023-03-13T11:41:39.275374",
     "status": "completed"
    },
    "tags": []
   },
   "outputs": [
    {
     "name": "stderr",
     "output_type": "stream",
     "text": [
      "/kaggle/working/l5kit/data/zarr_utils.py:244: RuntimeWarning: zarr dataset path doesn't exist. Open will fail for this dataset!\n",
      "  output_dataset = ChunkedDataset(output_zarr)\n"
     ]
    },
    {
     "name": "stdout",
     "output_type": "stream",
     "text": [
      "/kaggle/input/lyft-motion-prediction-autonomous-vehicles/scenes/sample.zarr\n"
     ]
    },
    {
     "name": "stderr",
     "output_type": "stream",
     "text": [
      "copying: 100%|██████████| 100/100 [00:02<00:00, 37.35it/s]\n",
      "/kaggle/working/l5kit/evaluation/extract_ground_truth.py:52: RuntimeWarning: you're running with a custom agents_mask\n",
      "  dataset = AgentDataset(cfg=cfg, zarr_dataset=zarr_dataset, rasterizer=rasterizer, agents_mask=agents_mask)\n",
      "extracting GT: 100%|██████████| 478/478 [00:07<00:00, 65.59it/s]\n"
     ]
    }
   ],
   "source": [
    "!rm -rf /tmp/lyft\n",
    "eval_dir = shutil.copytree(dm.require(\"scenes/sample.zarr\"), '/tmp/lyft/sample.zarr')\n",
    "\n",
    "\n",
    "num_frames_to_chop = 150\n",
    "eval_cfg = cfg[\"val_data_loader\"]\n",
    "print(dm.require(\"scenes/sample.zarr\"))\n",
    "eval_base_path = create_chopped_dataset(eval_dir, cfg[\"raster_params\"][\"filter_agents_threshold\"], \n",
    "                              150, 30, MIN_FUTURE_STEPS)"
   ]
  },
  {
   "cell_type": "markdown",
   "id": "17b0e5cf",
   "metadata": {
    "papermill": {
     "duration": 0.037911,
     "end_time": "2023-03-13T11:41:51.963291",
     "exception": false,
     "start_time": "2023-03-13T11:41:51.925380",
     "status": "completed"
    },
    "tags": []
   },
   "source": []
  },
  {
   "cell_type": "code",
   "execution_count": 16,
   "id": "f19336a9",
   "metadata": {
    "execution": {
     "iopub.execute_input": "2023-03-13T11:41:52.043213Z",
     "iopub.status.busy": "2023-03-13T11:41:52.041872Z",
     "iopub.status.idle": "2023-03-13T11:42:45.672567Z",
     "shell.execute_reply": "2023-03-13T11:42:45.670761Z"
    },
    "papermill": {
     "duration": 53.674145,
     "end_time": "2023-03-13T11:42:45.675489",
     "exception": false,
     "start_time": "2023-03-13T11:41:52.001344",
     "status": "completed"
    },
    "tags": []
   },
   "outputs": [
    {
     "name": "stdout",
     "output_type": "stream",
     "text": [
      "Requirement already satisfied: pip in /opt/conda/lib/python3.7/site-packages (22.3.1)\r\n",
      "Collecting pip\r\n",
      "  Downloading pip-23.0.1-py3-none-any.whl (2.1 MB)\r\n",
      "\u001b[2K     \u001b[90m━━━━━━━━━━━━━━━━━━━━━━━━━━━━━━━━━━━━━━━━\u001b[0m \u001b[32m2.1/2.1 MB\u001b[0m \u001b[31m27.9 MB/s\u001b[0m eta \u001b[36m0:00:00\u001b[0m\r\n",
      "\u001b[?25h\u001b[33mWARNING: Error parsing requirements for numpy: [Errno 2] No such file or directory: '/opt/conda/lib/python3.7/site-packages/numpy-1.21.6.dist-info/METADATA'\u001b[0m\u001b[33m\r\n",
      "\u001b[0mInstalling collected packages: pip\r\n",
      "  Attempting uninstall: pip\r\n",
      "    Found existing installation: pip 22.3.1\r\n",
      "    Uninstalling pip-22.3.1:\r\n",
      "      Successfully uninstalled pip-22.3.1\r\n",
      "\u001b[31mERROR: pip's dependency resolver does not currently take into account all the packages that are installed. This behaviour is the source of the following dependency conflicts.\r\n",
      "segregation 2.3.1 requires numpy, which is not installed.\u001b[0m\u001b[31m\r\n",
      "\u001b[0mSuccessfully installed pip-23.0.1\r\n",
      "\u001b[33mWARNING: Running pip as the 'root' user can result in broken permissions and conflicting behaviour with the system package manager. It is recommended to use a virtual environment instead: https://pip.pypa.io/warnings/venv\u001b[0m\u001b[33m\r\n",
      "\u001b[0mCollecting pymap3d==2.1.0\r\n",
      "  Using cached pymap3d-2.1.0.tar.gz (30 kB)\r\n",
      "  Preparing metadata (setup.py) ... \u001b[?25l-\b \bdone\r\n",
      "\u001b[?25hBuilding wheels for collected packages: pymap3d\r\n",
      "  Building wheel for pymap3d (setup.py) ... \u001b[?25l-\b \bdone\r\n",
      "\u001b[?25h  Created wheel for pymap3d: filename=pymap3d-2.1.0-py3-none-any.whl size=37449 sha256=1cb8a2094b0d2ec1e677beb6b5ac06d0e0957de617e1e92b3171d3a623a9a2a4\r\n",
      "  Stored in directory: /root/.cache/pip/wheels/07/c5/26/fea218a784fb6a7bdacdafd4a1019d8195f02f31a0ea4be35e\r\n",
      "Successfully built pymap3d\r\n",
      "\u001b[33mWARNING: Error parsing requirements for numpy: [Errno 2] No such file or directory: '/opt/conda/lib/python3.7/site-packages/numpy-1.21.6.dist-info/METADATA'\u001b[0m\u001b[33m\r\n",
      "\u001b[0mInstalling collected packages: pymap3d\r\n",
      "  Attempting uninstall: pymap3d\r\n",
      "    Found existing installation: pymap3d 2.9.1\r\n",
      "    Uninstalling pymap3d-2.9.1:\r\n",
      "      Successfully uninstalled pymap3d-2.9.1\r\n",
      "Successfully installed pymap3d-2.1.0\r\n",
      "\u001b[33mWARNING: Running pip as the 'root' user can result in broken permissions and conflicting behaviour with the system package manager. It is recommended to use a virtual environment instead: https://pip.pypa.io/warnings/venv\u001b[0m\u001b[33m\r\n",
      "\u001b[0mCollecting l5kit\r\n",
      "  Using cached l5kit-1.5.0-py3-none-any.whl (156 kB)\r\n",
      "Requirement already satisfied: typing-extensions in /opt/conda/lib/python3.7/site-packages (from l5kit) (4.4.0)\r\n",
      "Requirement already satisfied: transforms3d in /opt/conda/lib/python3.7/site-packages (from l5kit) (0.4.1)\r\n",
      "Requirement already satisfied: imageio in /opt/conda/lib/python3.7/site-packages (from l5kit) (2.25.0)\r\n",
      "Requirement already satisfied: torchvision<1.0.0,>=0.6.0 in /opt/conda/lib/python3.7/site-packages (from l5kit) (0.14.0+cpu)\r\n",
      "Requirement already satisfied: ipywidgets in /opt/conda/lib/python3.7/site-packages (from l5kit) (7.7.1)\r\n",
      "Requirement already satisfied: bokeh in /opt/conda/lib/python3.7/site-packages (from l5kit) (2.4.3)\r\n",
      "Requirement already satisfied: setuptools in /opt/conda/lib/python3.7/site-packages (from l5kit) (59.8.0)\r\n",
      "Requirement already satisfied: scipy in /opt/conda/lib/python3.7/site-packages (from l5kit) (1.7.3)\r\n",
      "Requirement already satisfied: shapely in /opt/conda/lib/python3.7/site-packages (from l5kit) (1.8.0)\r\n",
      "Requirement already satisfied: pymap3d in /opt/conda/lib/python3.7/site-packages (from l5kit) (2.1.0)\r\n",
      "Requirement already satisfied: notebook in /opt/conda/lib/python3.7/site-packages (from l5kit) (6.5.2)\r\n",
      "Requirement already satisfied: matplotlib in /opt/conda/lib/python3.7/site-packages (from l5kit) (3.5.3)\r\n",
      "Requirement already satisfied: pyyaml in /opt/conda/lib/python3.7/site-packages (from l5kit) (6.0)\r\n",
      "Requirement already satisfied: ptable in /opt/conda/lib/python3.7/site-packages (from l5kit) (0.9.2)\r\n",
      "Requirement already satisfied: tqdm in /opt/conda/lib/python3.7/site-packages (from l5kit) (4.64.1)\r\n",
      "Requirement already satisfied: gym in /opt/conda/lib/python3.7/site-packages (from l5kit) (0.23.1)\r\n",
      "Collecting numpy~=1.19.0\r\n",
      "  Using cached numpy-1.19.5-cp37-cp37m-manylinux2010_x86_64.whl (14.8 MB)\r\n",
      "Requirement already satisfied: protobuf>=3.12.2 in /opt/conda/lib/python3.7/site-packages (from l5kit) (3.20.3)\r\n",
      "Requirement already satisfied: torch<2.0.0,>=1.5.0 in /opt/conda/lib/python3.7/site-packages (from l5kit) (1.13.0+cpu)\r\n",
      "Collecting zarr\r\n",
      "  Using cached zarr-2.12.0-py3-none-any.whl (185 kB)\r\n",
      "Collecting opencv-contrib-python-headless\r\n",
      "  Using cached opencv_contrib_python_headless-4.7.0.72-cp37-abi3-manylinux_2_17_x86_64.manylinux2014_x86_64.whl (55.3 MB)\r\n",
      "Requirement already satisfied: pillow!=8.3.*,>=5.3.0 in /opt/conda/lib/python3.7/site-packages (from torchvision<1.0.0,>=0.6.0->l5kit) (9.4.0)\r\n",
      "Requirement already satisfied: requests in /opt/conda/lib/python3.7/site-packages (from torchvision<1.0.0,>=0.6.0->l5kit) (2.28.2)\r\n",
      "Requirement already satisfied: packaging>=16.8 in /opt/conda/lib/python3.7/site-packages (from bokeh->l5kit) (23.0)\r\n",
      "Requirement already satisfied: tornado>=5.1 in /opt/conda/lib/python3.7/site-packages (from bokeh->l5kit) (6.2)\r\n",
      "Requirement already satisfied: Jinja2>=2.9 in /opt/conda/lib/python3.7/site-packages (from bokeh->l5kit) (3.1.2)\r\n",
      "Requirement already satisfied: cloudpickle>=1.2.0 in /opt/conda/lib/python3.7/site-packages (from gym->l5kit) (2.2.1)\r\n",
      "Requirement already satisfied: importlib-metadata>=4.10.0 in /opt/conda/lib/python3.7/site-packages (from gym->l5kit) (4.11.4)\r\n",
      "Requirement already satisfied: gym-notices>=0.0.4 in /opt/conda/lib/python3.7/site-packages (from gym->l5kit) (0.0.8)\r\n",
      "Requirement already satisfied: traitlets>=4.3.1 in /opt/conda/lib/python3.7/site-packages (from ipywidgets->l5kit) (5.8.1)\r\n",
      "Requirement already satisfied: ipython-genutils~=0.2.0 in /opt/conda/lib/python3.7/site-packages (from ipywidgets->l5kit) (0.2.0)\r\n",
      "Requirement already satisfied: ipython>=4.0.0 in /opt/conda/lib/python3.7/site-packages (from ipywidgets->l5kit) (7.34.0)\r\n",
      "Requirement already satisfied: widgetsnbextension~=3.6.0 in /opt/conda/lib/python3.7/site-packages (from ipywidgets->l5kit) (3.6.2)\r\n",
      "Requirement already satisfied: ipykernel>=4.5.1 in /opt/conda/lib/python3.7/site-packages (from ipywidgets->l5kit) (6.16.2)\r\n",
      "Requirement already satisfied: jupyterlab-widgets>=1.0.0 in /opt/conda/lib/python3.7/site-packages (from ipywidgets->l5kit) (3.0.5)\r\n",
      "Requirement already satisfied: pyparsing>=2.2.1 in /opt/conda/lib/python3.7/site-packages (from matplotlib->l5kit) (3.0.9)\r\n",
      "Requirement already satisfied: kiwisolver>=1.0.1 in /opt/conda/lib/python3.7/site-packages (from matplotlib->l5kit) (1.4.4)\r\n",
      "Requirement already satisfied: fonttools>=4.22.0 in /opt/conda/lib/python3.7/site-packages (from matplotlib->l5kit) (4.38.0)\r\n",
      "Requirement already satisfied: cycler>=0.10 in /opt/conda/lib/python3.7/site-packages (from matplotlib->l5kit) (0.11.0)\r\n",
      "Requirement already satisfied: python-dateutil>=2.7 in /opt/conda/lib/python3.7/site-packages (from matplotlib->l5kit) (2.8.2)\r\n",
      "Requirement already satisfied: jupyter-client>=5.3.4 in /opt/conda/lib/python3.7/site-packages (from notebook->l5kit) (7.4.9)\r\n",
      "Requirement already satisfied: terminado>=0.8.3 in /opt/conda/lib/python3.7/site-packages (from notebook->l5kit) (0.17.1)\r\n",
      "Requirement already satisfied: nbconvert>=5 in /opt/conda/lib/python3.7/site-packages (from notebook->l5kit) (7.2.8)\r\n",
      "Requirement already satisfied: prometheus-client in /opt/conda/lib/python3.7/site-packages (from notebook->l5kit) (0.15.0)\r\n",
      "Requirement already satisfied: nest-asyncio>=1.5 in /opt/conda/lib/python3.7/site-packages (from notebook->l5kit) (1.5.6)\r\n",
      "Requirement already satisfied: nbclassic>=0.4.7 in /opt/conda/lib/python3.7/site-packages (from notebook->l5kit) (0.4.8)\r\n",
      "Requirement already satisfied: nbformat in /opt/conda/lib/python3.7/site-packages (from notebook->l5kit) (5.7.3)\r\n",
      "Requirement already satisfied: argon2-cffi in /opt/conda/lib/python3.7/site-packages (from notebook->l5kit) (21.3.0)\r\n",
      "Requirement already satisfied: pyzmq>=17 in /opt/conda/lib/python3.7/site-packages (from notebook->l5kit) (25.0.0)\r\n",
      "Requirement already satisfied: Send2Trash>=1.8.0 in /opt/conda/lib/python3.7/site-packages (from notebook->l5kit) (1.8.0)\r\n",
      "Requirement already satisfied: jupyter-core>=4.6.1 in /opt/conda/lib/python3.7/site-packages (from notebook->l5kit) (4.12.0)\r\n",
      "Requirement already satisfied: asciitree in /opt/conda/lib/python3.7/site-packages (from zarr->l5kit) (0.3.3)\r\n",
      "Collecting numcodecs>=0.6.4\r\n",
      "  Using cached numcodecs-0.10.2-cp37-cp37m-manylinux_2_17_x86_64.manylinux2014_x86_64.whl (6.6 MB)\r\n",
      "Requirement already satisfied: fasteners in /opt/conda/lib/python3.7/site-packages (from zarr->l5kit) (0.18)\r\n",
      "Requirement already satisfied: zipp>=0.5 in /opt/conda/lib/python3.7/site-packages (from importlib-metadata>=4.10.0->gym->l5kit) (3.11.0)\r\n",
      "Requirement already satisfied: matplotlib-inline>=0.1 in /opt/conda/lib/python3.7/site-packages (from ipykernel>=4.5.1->ipywidgets->l5kit) (0.1.6)\r\n",
      "Requirement already satisfied: debugpy>=1.0 in /opt/conda/lib/python3.7/site-packages (from ipykernel>=4.5.1->ipywidgets->l5kit) (1.6.6)\r\n",
      "Requirement already satisfied: psutil in /opt/conda/lib/python3.7/site-packages (from ipykernel>=4.5.1->ipywidgets->l5kit) (5.9.3)\r\n",
      "Requirement already satisfied: decorator in /opt/conda/lib/python3.7/site-packages (from ipython>=4.0.0->ipywidgets->l5kit) (5.1.1)\r\n",
      "Requirement already satisfied: jedi>=0.16 in /opt/conda/lib/python3.7/site-packages (from ipython>=4.0.0->ipywidgets->l5kit) (0.18.2)\r\n",
      "Requirement already satisfied: backcall in /opt/conda/lib/python3.7/site-packages (from ipython>=4.0.0->ipywidgets->l5kit) (0.2.0)\r\n",
      "Requirement already satisfied: pygments in /opt/conda/lib/python3.7/site-packages (from ipython>=4.0.0->ipywidgets->l5kit) (2.14.0)\r\n",
      "Requirement already satisfied: pickleshare in /opt/conda/lib/python3.7/site-packages (from ipython>=4.0.0->ipywidgets->l5kit) (0.7.5)\r\n",
      "Requirement already satisfied: prompt-toolkit!=3.0.0,!=3.0.1,<3.1.0,>=2.0.0 in /opt/conda/lib/python3.7/site-packages (from ipython>=4.0.0->ipywidgets->l5kit) (3.0.36)\r\n",
      "Requirement already satisfied: pexpect>4.3 in /opt/conda/lib/python3.7/site-packages (from ipython>=4.0.0->ipywidgets->l5kit) (4.8.0)\r\n",
      "Requirement already satisfied: MarkupSafe>=2.0 in /opt/conda/lib/python3.7/site-packages (from Jinja2>=2.9->bokeh->l5kit) (2.1.1)\r\n",
      "Requirement already satisfied: entrypoints in /opt/conda/lib/python3.7/site-packages (from jupyter-client>=5.3.4->notebook->l5kit) (0.4)\r\n",
      "Requirement already satisfied: jupyter-server>=1.8 in /opt/conda/lib/python3.7/site-packages (from nbclassic>=0.4.7->notebook->l5kit) (1.23.5)\r\n",
      "Requirement already satisfied: notebook-shim>=0.1.0 in /opt/conda/lib/python3.7/site-packages (from nbclassic>=0.4.7->notebook->l5kit) (0.2.2)\r\n",
      "Requirement already satisfied: nbclient>=0.5.0 in /opt/conda/lib/python3.7/site-packages (from nbconvert>=5->notebook->l5kit) (0.7.2)\r\n",
      "Requirement already satisfied: defusedxml in /opt/conda/lib/python3.7/site-packages (from nbconvert>=5->notebook->l5kit) (0.7.1)\r\n",
      "Requirement already satisfied: mistune<3,>=2.0.3 in /opt/conda/lib/python3.7/site-packages (from nbconvert>=5->notebook->l5kit) (2.0.4)\r\n",
      "Requirement already satisfied: bleach in /opt/conda/lib/python3.7/site-packages (from nbconvert>=5->notebook->l5kit) (6.0.0)\r\n",
      "Requirement already satisfied: beautifulsoup4 in /opt/conda/lib/python3.7/site-packages (from nbconvert>=5->notebook->l5kit) (4.11.1)\r\n",
      "Requirement already satisfied: pandocfilters>=1.4.1 in /opt/conda/lib/python3.7/site-packages (from nbconvert>=5->notebook->l5kit) (1.5.0)\r\n",
      "Requirement already satisfied: jupyterlab-pygments in /opt/conda/lib/python3.7/site-packages (from nbconvert>=5->notebook->l5kit) (0.2.2)\r\n",
      "Requirement already satisfied: tinycss2 in /opt/conda/lib/python3.7/site-packages (from nbconvert>=5->notebook->l5kit) (1.2.1)\r\n",
      "Requirement already satisfied: fastjsonschema in /opt/conda/lib/python3.7/site-packages (from nbformat->notebook->l5kit) (2.16.2)\r\n",
      "Requirement already satisfied: jsonschema>=2.6 in /opt/conda/lib/python3.7/site-packages (from nbformat->notebook->l5kit) (4.17.3)\r\n",
      "Requirement already satisfied: six>=1.5 in /opt/conda/lib/python3.7/site-packages (from python-dateutil>=2.7->matplotlib->l5kit) (1.16.0)\r\n",
      "Requirement already satisfied: ptyprocess in /opt/conda/lib/python3.7/site-packages (from terminado>=0.8.3->notebook->l5kit) (0.7.0)\r\n",
      "Requirement already satisfied: argon2-cffi-bindings in /opt/conda/lib/python3.7/site-packages (from argon2-cffi->notebook->l5kit) (21.2.0)\r\n",
      "Requirement already satisfied: idna<4,>=2.5 in /opt/conda/lib/python3.7/site-packages (from requests->torchvision<1.0.0,>=0.6.0->l5kit) (3.4)\r\n",
      "Requirement already satisfied: urllib3<1.27,>=1.21.1 in /opt/conda/lib/python3.7/site-packages (from requests->torchvision<1.0.0,>=0.6.0->l5kit) (1.26.14)\r\n",
      "Requirement already satisfied: certifi>=2017.4.17 in /opt/conda/lib/python3.7/site-packages (from requests->torchvision<1.0.0,>=0.6.0->l5kit) (2022.12.7)\r\n",
      "Requirement already satisfied: charset-normalizer<4,>=2 in /opt/conda/lib/python3.7/site-packages (from requests->torchvision<1.0.0,>=0.6.0->l5kit) (2.1.1)\r\n",
      "Requirement already satisfied: parso<0.9.0,>=0.8.0 in /opt/conda/lib/python3.7/site-packages (from jedi>=0.16->ipython>=4.0.0->ipywidgets->l5kit) (0.8.3)\r\n",
      "Requirement already satisfied: importlib-resources>=1.4.0 in /opt/conda/lib/python3.7/site-packages (from jsonschema>=2.6->nbformat->notebook->l5kit) (5.10.2)\r\n",
      "Requirement already satisfied: attrs>=17.4.0 in /opt/conda/lib/python3.7/site-packages (from jsonschema>=2.6->nbformat->notebook->l5kit) (22.2.0)\r\n",
      "Requirement already satisfied: pkgutil-resolve-name>=1.3.10 in /opt/conda/lib/python3.7/site-packages (from jsonschema>=2.6->nbformat->notebook->l5kit) (1.3.10)\r\n",
      "Requirement already satisfied: pyrsistent!=0.17.0,!=0.17.1,!=0.17.2,>=0.14.0 in /opt/conda/lib/python3.7/site-packages (from jsonschema>=2.6->nbformat->notebook->l5kit) (0.19.3)\r\n",
      "Requirement already satisfied: websocket-client in /opt/conda/lib/python3.7/site-packages (from jupyter-server>=1.8->nbclassic>=0.4.7->notebook->l5kit) (1.4.2)\r\n",
      "Requirement already satisfied: anyio<4,>=3.1.0 in /opt/conda/lib/python3.7/site-packages (from jupyter-server>=1.8->nbclassic>=0.4.7->notebook->l5kit) (3.6.2)\r\n",
      "Requirement already satisfied: wcwidth in /opt/conda/lib/python3.7/site-packages (from prompt-toolkit!=3.0.0,!=3.0.1,<3.1.0,>=2.0.0->ipython>=4.0.0->ipywidgets->l5kit) (0.2.6)\r\n",
      "Requirement already satisfied: cffi>=1.0.1 in /opt/conda/lib/python3.7/site-packages (from argon2-cffi-bindings->argon2-cffi->notebook->l5kit) (1.15.1)\r\n",
      "Requirement already satisfied: soupsieve>1.2 in /opt/conda/lib/python3.7/site-packages (from beautifulsoup4->nbconvert>=5->notebook->l5kit) (2.3.2.post1)\r\n",
      "Requirement already satisfied: webencodings in /opt/conda/lib/python3.7/site-packages (from bleach->nbconvert>=5->notebook->l5kit) (0.5.1)\r\n",
      "Requirement already satisfied: sniffio>=1.1 in /opt/conda/lib/python3.7/site-packages (from anyio<4,>=3.1.0->jupyter-server>=1.8->nbclassic>=0.4.7->notebook->l5kit) (1.3.0)\r\n",
      "Requirement already satisfied: pycparser in /opt/conda/lib/python3.7/site-packages (from cffi>=1.0.1->argon2-cffi-bindings->argon2-cffi->notebook->l5kit) (2.21)\r\n",
      "\u001b[33mWARNING: Error parsing requirements for numpy: [Errno 2] No such file or directory: '/opt/conda/lib/python3.7/site-packages/numpy-1.21.6.dist-info/METADATA'\u001b[0m\u001b[33m\r\n",
      "\u001b[0mInstalling collected packages: numpy, opencv-contrib-python-headless, numcodecs, zarr, l5kit\r\n",
      "  Attempting uninstall: numpy\r\n",
      "\u001b[33m    WARNING: No metadata found in /opt/conda/lib/python3.7/site-packages\u001b[0m\u001b[33m\r\n",
      "\u001b[0m    Found existing installation: numpy 1.21.6\r\n",
      "\u001b[31mERROR: Cannot uninstall numpy 1.21.6, RECORD file not found. You might be able to recover from this via: 'pip install --force-reinstall --no-deps numpy==1.21.6'.\u001b[0m\u001b[31m\r\n",
      "\u001b[0m{'format_version': 4, 'model_params': {'model_architecture': 'resnet50', 'history_num_frames': 0, 'history_step_size': 1, 'history_delta_time': 0.1, 'future_num_frames': 50, 'future_step_size': 1, 'future_delta_time': 0.1}, 'raster_params': {'raster_size': [224, 224], 'pixel_size': [0.5, 0.5], 'ego_center': [0.25, 0.5], 'map_type': 'py_semantic', 'satellite_map_key': 'aerial_map/aerial_map.png', 'semantic_map_key': 'semantic_map/semantic_map.pb', 'dataset_meta_key': 'meta.json', 'filter_agents_threshold': 0.5}, 'train_data_loader': {'key': 'scenes/sample.zarr', 'batch_size': 12, 'shuffle': True, 'num_workers': 16}, 'val_data_loader': {'key': 'scenes/sample.zarr', 'batch_size': 12, 'shuffle': False, 'num_workers': 16}, 'train_params': {'checkpoint_every_n_steps': 10000, 'max_num_steps': 5, 'eval_every_n_steps': 10000}}\n"
     ]
    }
   ],
   "source": [
    "###############################################################################################################################\n",
    "!pip install --upgrade pip\n",
    "!pip install pymap3d==2.1.0\n",
    "!pip install -U l5kit\n",
    "# set env variable for data\n",
    "os.environ[\"L5KIT_DATA_FOLDER\"] = \"../lyft-motion-prediction-autonomous-vehicles\"\n",
    "dm = LocalDataManager(None)\n",
    "# get config\n",
    "cfg = load_config_data(\"../input/lyft-config-files/agent_motion_config.yaml\")\n",
    "print(cfg)"
   ]
  },
  {
   "cell_type": "code",
   "execution_count": 17,
   "id": "725f5a2a",
   "metadata": {
    "execution": {
     "iopub.execute_input": "2023-03-13T11:42:45.762712Z",
     "iopub.status.busy": "2023-03-13T11:42:45.761567Z",
     "iopub.status.idle": "2023-03-13T11:42:45.771940Z",
     "shell.execute_reply": "2023-03-13T11:42:45.771020Z"
    },
    "papermill": {
     "duration": 0.057059,
     "end_time": "2023-03-13T11:42:45.774590",
     "exception": false,
     "start_time": "2023-03-13T11:42:45.717531",
     "status": "completed"
    },
    "tags": []
   },
   "outputs": [],
   "source": [
    "from typing import Dict\n",
    "\n",
    "from tempfile import gettempdir\n",
    "import matplotlib.pyplot as plt\n",
    "import numpy as np\n",
    "import torch\n",
    "from torch import nn, optim\n",
    "from torch.utils.data import DataLoader\n",
    "from torchvision.models.resnet import resnet50\n",
    "from tqdm import tqdm\n",
    "\n",
    "from l5kit.configs import load_config_data\n",
    "from l5kit.data import LocalDataManager, ChunkedDataset\n",
    "from l5kit.dataset import AgentDataset, EgoDataset\n",
    "from l5kit.rasterization import build_rasterizer\n",
    "from l5kit.evaluation import write_pred_csv, compute_metrics_csv, read_gt_csv, create_chopped_dataset\n",
    "from l5kit.evaluation.chop_dataset import MIN_FUTURE_STEPS\n",
    "from l5kit.evaluation.metrics import neg_multi_log_likelihood, time_displace\n",
    "from l5kit.geometry import transform_points\n",
    "from l5kit.visualization import PREDICTED_POINTS_COLOR, TARGET_POINTS_COLOR, draw_trajectory\n",
    "from prettytable import PrettyTable\n",
    "from pathlib import Path\n",
    "\n",
    "import os"
   ]
  },
  {
   "cell_type": "code",
   "execution_count": 18,
   "id": "99eb2026",
   "metadata": {
    "execution": {
     "iopub.execute_input": "2023-03-13T11:42:45.860692Z",
     "iopub.status.busy": "2023-03-13T11:42:45.859433Z",
     "iopub.status.idle": "2023-03-13T11:42:45.867883Z",
     "shell.execute_reply": "2023-03-13T11:42:45.867020Z"
    },
    "papermill": {
     "duration": 0.054575,
     "end_time": "2023-03-13T11:42:45.870508",
     "exception": false,
     "start_time": "2023-03-13T11:42:45.815933",
     "status": "completed"
    },
    "tags": []
   },
   "outputs": [],
   "source": [
    "def build_model(cfg: Dict) -> torch.nn.Module:\n",
    "    # load pre-trained Conv2D model\n",
    "    model = resnet50(pretrained=True)\n",
    "\n",
    "    # change input channels number to match the rasterizer's output\n",
    "    num_history_channels = (cfg[\"model_params\"][\"history_num_frames\"] + 1) * 2\n",
    "    num_in_channels = 3 + num_history_channels\n",
    "    model.conv1 = nn.Conv2d(\n",
    "        num_in_channels,\n",
    "        model.conv1.out_channels,\n",
    "        kernel_size=model.conv1.kernel_size,\n",
    "        stride=model.conv1.stride,\n",
    "        padding=model.conv1.padding,\n",
    "        bias=False,\n",
    "    )\n",
    "    # change output size to (X, Y) * number of future states\n",
    "    num_targets = 2 * cfg[\"model_params\"][\"future_num_frames\"]\n",
    "    model.fc = nn.Linear(in_features=2048, out_features=num_targets)\n",
    "\n",
    "    return model"
   ]
  },
  {
   "cell_type": "code",
   "execution_count": 19,
   "id": "8a20033b",
   "metadata": {
    "execution": {
     "iopub.execute_input": "2023-03-13T11:42:45.984909Z",
     "iopub.status.busy": "2023-03-13T11:42:45.983629Z",
     "iopub.status.idle": "2023-03-13T12:06:06.011343Z",
     "shell.execute_reply": "2023-03-13T12:06:06.006648Z"
    },
    "papermill": {
     "duration": 1400.092508,
     "end_time": "2023-03-13T12:06:06.019662",
     "exception": false,
     "start_time": "2023-03-13T11:42:45.927154",
     "status": "completed"
    },
    "tags": []
   },
   "outputs": [],
   "source": [
    "!cp -r ../input/lyft-motion-prediction-autonomous-vehicles ../lyft-motion-prediction-autonomous-vehicles"
   ]
  },
  {
   "cell_type": "code",
   "execution_count": 20,
   "id": "bdc6aae7",
   "metadata": {
    "execution": {
     "iopub.execute_input": "2023-03-13T12:06:06.288436Z",
     "iopub.status.busy": "2023-03-13T12:06:06.287419Z",
     "iopub.status.idle": "2023-03-13T12:06:06.314209Z",
     "shell.execute_reply": "2023-03-13T12:06:06.313218Z"
    },
    "papermill": {
     "duration": 0.07555,
     "end_time": "2023-03-13T12:06:06.316736",
     "exception": false,
     "start_time": "2023-03-13T12:06:06.241186",
     "status": "completed"
    },
    "tags": []
   },
   "outputs": [
    {
     "name": "stdout",
     "output_type": "stream",
     "text": [
      "{'format_version': 4, 'model_params': {'model_architecture': 'resnet50', 'history_num_frames': 0, 'history_step_size': 1, 'history_delta_time': 0.1, 'future_num_frames': 50, 'future_step_size': 1, 'future_delta_time': 0.1}, 'raster_params': {'raster_size': [224, 224], 'pixel_size': [0.5, 0.5], 'ego_center': [0.25, 0.5], 'map_type': 'py_semantic', 'satellite_map_key': 'aerial_map/aerial_map.png', 'semantic_map_key': 'semantic_map/semantic_map.pb', 'dataset_meta_key': 'meta.json', 'filter_agents_threshold': 0.5}, 'train_data_loader': {'key': 'scenes/sample.zarr', 'batch_size': 12, 'shuffle': True, 'num_workers': 16}, 'val_data_loader': {'key': 'scenes/sample.zarr', 'batch_size': 12, 'shuffle': False, 'num_workers': 16}, 'train_params': {'checkpoint_every_n_steps': 10000, 'max_num_steps': 5, 'eval_every_n_steps': 10000}}\n"
     ]
    }
   ],
   "source": [
    "# set env variable for data\n",
    "os.environ[\"L5KIT_DATA_FOLDER\"] = \"../lyft-motion-prediction-autonomous-vehicles\"\n",
    "dm = LocalDataManager(None)\n",
    "# get config\n",
    "cfg = load_config_data(\"../input/lyft-config-files/agent_motion_config.yaml\")\n",
    "print(cfg)"
   ]
  },
  {
   "cell_type": "code",
   "execution_count": 21,
   "id": "67388bc4",
   "metadata": {
    "execution": {
     "iopub.execute_input": "2023-03-13T12:06:06.404616Z",
     "iopub.status.busy": "2023-03-13T12:06:06.403872Z",
     "iopub.status.idle": "2023-03-13T12:06:06.412579Z",
     "shell.execute_reply": "2023-03-13T12:06:06.411678Z"
    },
    "papermill": {
     "duration": 0.055314,
     "end_time": "2023-03-13T12:06:06.415187",
     "exception": false,
     "start_time": "2023-03-13T12:06:06.359873",
     "status": "completed"
    },
    "tags": []
   },
   "outputs": [],
   "source": [
    "def build_model(cfg: Dict) -> torch.nn.Module:\n",
    "    # load pre-trained Conv2D model\n",
    "    model = resnet50(pretrained=True)\n",
    "\n",
    "    # change input channels number to match the rasterizer's output\n",
    "    num_history_channels = (cfg[\"model_params\"][\"history_num_frames\"] + 1) * 2\n",
    "    num_in_channels = 3 + num_history_channels\n",
    "    model.conv1 = nn.Conv2d(\n",
    "        num_in_channels,\n",
    "        model.conv1.out_channels,\n",
    "        kernel_size=model.conv1.kernel_size,\n",
    "        stride=model.conv1.stride,\n",
    "        padding=model.conv1.padding,\n",
    "        bias=False,\n",
    "    )\n",
    "    # change output size to (X, Y) * number of future states\n",
    "    num_targets = 2 * cfg[\"model_params\"][\"future_num_frames\"]\n",
    "    model.fc = nn.Linear(in_features=2048, out_features=num_targets)\n",
    "\n",
    "    return model"
   ]
  },
  {
   "cell_type": "code",
   "execution_count": 22,
   "id": "a48d72f4",
   "metadata": {
    "execution": {
     "iopub.execute_input": "2023-03-13T12:06:06.502198Z",
     "iopub.status.busy": "2023-03-13T12:06:06.501462Z",
     "iopub.status.idle": "2023-03-13T12:06:06.508185Z",
     "shell.execute_reply": "2023-03-13T12:06:06.507222Z"
    },
    "papermill": {
     "duration": 0.053038,
     "end_time": "2023-03-13T12:06:06.510744",
     "exception": false,
     "start_time": "2023-03-13T12:06:06.457706",
     "status": "completed"
    },
    "tags": []
   },
   "outputs": [],
   "source": [
    "def forward(data, model, device, criterion):\n",
    "    inputs = data[\"image\"].to(device)\n",
    "    target_availabilities = data[\"target_availabilities\"].unsqueeze(-1).to(device)\n",
    "    targets = data[\"target_positions\"].to(device)\n",
    "    # Forward pass\n",
    "    outputs = model(inputs).reshape(targets.shape)\n",
    "    loss = criterion(outputs, targets)\n",
    "    # not all the output steps are valid, but we can filter them out from the loss using availabilities\n",
    "    loss = loss * target_availabilities\n",
    "    loss = loss.mean()\n",
    "    return loss, outputs"
   ]
  },
  {
   "cell_type": "code",
   "execution_count": 23,
   "id": "7829fee8",
   "metadata": {
    "execution": {
     "iopub.execute_input": "2023-03-13T12:06:06.598498Z",
     "iopub.status.busy": "2023-03-13T12:06:06.597703Z",
     "iopub.status.idle": "2023-03-13T12:06:06.782744Z",
     "shell.execute_reply": "2023-03-13T12:06:06.781058Z"
    },
    "papermill": {
     "duration": 0.230961,
     "end_time": "2023-03-13T12:06:06.784490",
     "exception": true,
     "start_time": "2023-03-13T12:06:06.553529",
     "status": "failed"
    },
    "tags": []
   },
   "outputs": [
    {
     "ename": "KeyError",
     "evalue": "'set_origin_to_bottom'",
     "output_type": "error",
     "traceback": [
      "\u001b[0;31m---------------------------------------------------------------------------\u001b[0m",
      "\u001b[0;31mKeyError\u001b[0m                                  Traceback (most recent call last)",
      "\u001b[0;32m/tmp/ipykernel_19/924327715.py\u001b[0m in \u001b[0;36m<module>\u001b[0;34m\u001b[0m\n\u001b[1;32m      1\u001b[0m \u001b[0;31m# ===== INIT DATASET\u001b[0m\u001b[0;34m\u001b[0m\u001b[0;34m\u001b[0m\u001b[0;34m\u001b[0m\u001b[0m\n\u001b[1;32m      2\u001b[0m \u001b[0mtrain_cfg\u001b[0m \u001b[0;34m=\u001b[0m \u001b[0mcfg\u001b[0m\u001b[0;34m[\u001b[0m\u001b[0;34m\"train_data_loader\"\u001b[0m\u001b[0;34m]\u001b[0m\u001b[0;34m\u001b[0m\u001b[0;34m\u001b[0m\u001b[0m\n\u001b[0;32m----> 3\u001b[0;31m \u001b[0mrasterizer\u001b[0m \u001b[0;34m=\u001b[0m \u001b[0mbuild_rasterizer\u001b[0m\u001b[0;34m(\u001b[0m\u001b[0mcfg\u001b[0m\u001b[0;34m,\u001b[0m \u001b[0mdm\u001b[0m\u001b[0;34m)\u001b[0m\u001b[0;34m\u001b[0m\u001b[0;34m\u001b[0m\u001b[0m\n\u001b[0m\u001b[1;32m      4\u001b[0m \u001b[0mtrain_zarr\u001b[0m \u001b[0;34m=\u001b[0m \u001b[0mChunkedDataset\u001b[0m\u001b[0;34m(\u001b[0m\u001b[0mdm\u001b[0m\u001b[0;34m.\u001b[0m\u001b[0mrequire\u001b[0m\u001b[0;34m(\u001b[0m\u001b[0mtrain_cfg\u001b[0m\u001b[0;34m[\u001b[0m\u001b[0;34m\"key\"\u001b[0m\u001b[0;34m]\u001b[0m\u001b[0;34m)\u001b[0m\u001b[0;34m)\u001b[0m\u001b[0;34m.\u001b[0m\u001b[0mopen\u001b[0m\u001b[0;34m(\u001b[0m\u001b[0;34m)\u001b[0m\u001b[0;34m\u001b[0m\u001b[0;34m\u001b[0m\u001b[0m\n\u001b[1;32m      5\u001b[0m \u001b[0mtrain_dataset\u001b[0m \u001b[0;34m=\u001b[0m \u001b[0mAgentDataset\u001b[0m\u001b[0;34m(\u001b[0m\u001b[0mcfg\u001b[0m\u001b[0;34m,\u001b[0m \u001b[0mtrain_zarr\u001b[0m\u001b[0;34m,\u001b[0m \u001b[0mrasterizer\u001b[0m\u001b[0;34m)\u001b[0m\u001b[0;34m\u001b[0m\u001b[0;34m\u001b[0m\u001b[0m\n",
      "\u001b[0;32m/kaggle/working/l5kit/rasterization/rasterizer_builder.py\u001b[0m in \u001b[0;36mbuild_rasterizer\u001b[0;34m(cfg, data_manager)\u001b[0m\n\u001b[1;32m     57\u001b[0m         \u001b[0mpixel_size_m\u001b[0m\u001b[0;34m=\u001b[0m\u001b[0mnp\u001b[0m\u001b[0;34m.\u001b[0m\u001b[0marray\u001b[0m\u001b[0;34m(\u001b[0m\u001b[0mraster_cfg\u001b[0m\u001b[0;34m[\u001b[0m\u001b[0;34m\"pixel_size\"\u001b[0m\u001b[0;34m]\u001b[0m\u001b[0;34m)\u001b[0m\u001b[0;34m,\u001b[0m\u001b[0;34m\u001b[0m\u001b[0;34m\u001b[0m\u001b[0m\n\u001b[1;32m     58\u001b[0m         \u001b[0mcenter_in_raster_ratio\u001b[0m\u001b[0;34m=\u001b[0m\u001b[0mnp\u001b[0m\u001b[0;34m.\u001b[0m\u001b[0marray\u001b[0m\u001b[0;34m(\u001b[0m\u001b[0mraster_cfg\u001b[0m\u001b[0;34m[\u001b[0m\u001b[0;34m\"ego_center\"\u001b[0m\u001b[0;34m]\u001b[0m\u001b[0;34m)\u001b[0m\u001b[0;34m,\u001b[0m\u001b[0;34m\u001b[0m\u001b[0;34m\u001b[0m\u001b[0m\n\u001b[0;32m---> 59\u001b[0;31m         \u001b[0mset_origin_to_bottom\u001b[0m\u001b[0;34m=\u001b[0m\u001b[0mraster_cfg\u001b[0m\u001b[0;34m[\u001b[0m\u001b[0;34m\"set_origin_to_bottom\"\u001b[0m\u001b[0;34m]\u001b[0m\u001b[0;34m,\u001b[0m\u001b[0;34m\u001b[0m\u001b[0;34m\u001b[0m\u001b[0m\n\u001b[0m\u001b[1;32m     60\u001b[0m     )\n\u001b[1;32m     61\u001b[0m \u001b[0;34m\u001b[0m\u001b[0m\n",
      "\u001b[0;31mKeyError\u001b[0m: 'set_origin_to_bottom'"
     ]
    }
   ],
   "source": [
    "# ===== INIT DATASET\n",
    "train_cfg = cfg[\"train_data_loader\"]\n",
    "rasterizer = build_rasterizer(cfg, dm)\n",
    "train_zarr = ChunkedDataset(dm.require(train_cfg[\"key\"])).open()\n",
    "train_dataset = AgentDataset(cfg, train_zarr, rasterizer)\n",
    "train_dataloader = DataLoader(train_dataset, shuffle=train_cfg[\"shuffle\"], batch_size=train_cfg[\"batch_size\"], \n",
    "                             num_workers=train_cfg[\"num_workers\"])\n",
    "print(train_dataset)"
   ]
  },
  {
   "cell_type": "code",
   "execution_count": null,
   "id": "38d04875",
   "metadata": {
    "papermill": {
     "duration": null,
     "end_time": null,
     "exception": null,
     "start_time": null,
     "status": "pending"
    },
    "tags": []
   },
   "outputs": [],
   "source": []
  }
 ],
 "metadata": {
  "kernelspec": {
   "display_name": "Python 3",
   "language": "python",
   "name": "python3"
  },
  "language_info": {
   "codemirror_mode": {
    "name": "ipython",
    "version": 3
   },
   "file_extension": ".py",
   "mimetype": "text/x-python",
   "name": "python",
   "nbconvert_exporter": "python",
   "pygments_lexer": "ipython3",
   "version": "3.7.12"
  },
  "papermill": {
   "default_parameters": {},
   "duration": 2062.349881,
   "end_time": "2023-03-13T12:06:09.557156",
   "environment_variables": {},
   "exception": true,
   "input_path": "__notebook__.ipynb",
   "output_path": "__notebook__.ipynb",
   "parameters": {},
   "start_time": "2023-03-13T11:31:47.207275",
   "version": "2.4.0"
  },
  "widgets": {
   "application/vnd.jupyter.widget-state+json": {
    "state": {
     "0b6a4183362f4ceca2328320b4392bc7": {
      "model_module": "@jupyter-widgets/base",
      "model_module_version": "1.2.0",
      "model_name": "LayoutModel",
      "state": {
       "_model_module": "@jupyter-widgets/base",
       "_model_module_version": "1.2.0",
       "_model_name": "LayoutModel",
       "_view_count": null,
       "_view_module": "@jupyter-widgets/base",
       "_view_module_version": "1.2.0",
       "_view_name": "LayoutView",
       "align_content": null,
       "align_items": null,
       "align_self": null,
       "border": null,
       "bottom": null,
       "display": null,
       "flex": null,
       "flex_flow": null,
       "grid_area": null,
       "grid_auto_columns": null,
       "grid_auto_flow": null,
       "grid_auto_rows": null,
       "grid_column": null,
       "grid_gap": null,
       "grid_row": null,
       "grid_template_areas": null,
       "grid_template_columns": null,
       "grid_template_rows": null,
       "height": null,
       "justify_content": null,
       "justify_items": null,
       "left": null,
       "margin": null,
       "max_height": null,
       "max_width": null,
       "min_height": null,
       "min_width": null,
       "object_fit": null,
       "object_position": null,
       "order": null,
       "overflow": null,
       "overflow_x": null,
       "overflow_y": null,
       "padding": null,
       "right": null,
       "top": null,
       "visibility": null,
       "width": null
      }
     },
     "2eb9cea796d5474692ea8eb9448f8a1d": {
      "model_module": "@jupyter-widgets/controls",
      "model_module_version": "1.5.0",
      "model_name": "DescriptionStyleModel",
      "state": {
       "_model_module": "@jupyter-widgets/controls",
       "_model_module_version": "1.5.0",
       "_model_name": "DescriptionStyleModel",
       "_view_count": null,
       "_view_module": "@jupyter-widgets/base",
       "_view_module_version": "1.2.0",
       "_view_name": "StyleView",
       "description_width": ""
      }
     },
     "4b4093d5b25c431eae04f54a31a628ec": {
      "model_module": "@jupyter-widgets/controls",
      "model_module_version": "1.5.0",
      "model_name": "ProgressStyleModel",
      "state": {
       "_model_module": "@jupyter-widgets/controls",
       "_model_module_version": "1.5.0",
       "_model_name": "ProgressStyleModel",
       "_view_count": null,
       "_view_module": "@jupyter-widgets/base",
       "_view_module_version": "1.2.0",
       "_view_name": "StyleView",
       "bar_color": null,
       "description_width": ""
      }
     },
     "5e266d7f6364441faa16a07f96d98aaf": {
      "model_module": "@jupyter-widgets/controls",
      "model_module_version": "1.5.0",
      "model_name": "DescriptionStyleModel",
      "state": {
       "_model_module": "@jupyter-widgets/controls",
       "_model_module_version": "1.5.0",
       "_model_name": "DescriptionStyleModel",
       "_view_count": null,
       "_view_module": "@jupyter-widgets/base",
       "_view_module_version": "1.2.0",
       "_view_name": "StyleView",
       "description_width": ""
      }
     },
     "60a98ae266ec4c438cee8d3c0ac0e9b3": {
      "model_module": "@jupyter-widgets/controls",
      "model_module_version": "1.5.0",
      "model_name": "HTMLModel",
      "state": {
       "_dom_classes": [],
       "_model_module": "@jupyter-widgets/controls",
       "_model_module_version": "1.5.0",
       "_model_name": "HTMLModel",
       "_view_count": null,
       "_view_module": "@jupyter-widgets/controls",
       "_view_module_version": "1.5.0",
       "_view_name": "HTMLView",
       "description": "",
       "description_tooltip": null,
       "layout": "IPY_MODEL_7f8f9928571e46dfb781fcdae908e4f0",
       "placeholder": "​",
       "style": "IPY_MODEL_5e266d7f6364441faa16a07f96d98aaf",
       "value": " 83.3M/83.3M [00:00&lt;00:00, 203MB/s]"
      }
     },
     "70bdaa5a08b24338a495358b91bac28d": {
      "model_module": "@jupyter-widgets/controls",
      "model_module_version": "1.5.0",
      "model_name": "HTMLModel",
      "state": {
       "_dom_classes": [],
       "_model_module": "@jupyter-widgets/controls",
       "_model_module_version": "1.5.0",
       "_model_name": "HTMLModel",
       "_view_count": null,
       "_view_module": "@jupyter-widgets/controls",
       "_view_module_version": "1.5.0",
       "_view_name": "HTMLView",
       "description": "",
       "description_tooltip": null,
       "layout": "IPY_MODEL_761391429cb64a4880946944fb4c7076",
       "placeholder": "​",
       "style": "IPY_MODEL_2eb9cea796d5474692ea8eb9448f8a1d",
       "value": "100%"
      }
     },
     "761391429cb64a4880946944fb4c7076": {
      "model_module": "@jupyter-widgets/base",
      "model_module_version": "1.2.0",
      "model_name": "LayoutModel",
      "state": {
       "_model_module": "@jupyter-widgets/base",
       "_model_module_version": "1.2.0",
       "_model_name": "LayoutModel",
       "_view_count": null,
       "_view_module": "@jupyter-widgets/base",
       "_view_module_version": "1.2.0",
       "_view_name": "LayoutView",
       "align_content": null,
       "align_items": null,
       "align_self": null,
       "border": null,
       "bottom": null,
       "display": null,
       "flex": null,
       "flex_flow": null,
       "grid_area": null,
       "grid_auto_columns": null,
       "grid_auto_flow": null,
       "grid_auto_rows": null,
       "grid_column": null,
       "grid_gap": null,
       "grid_row": null,
       "grid_template_areas": null,
       "grid_template_columns": null,
       "grid_template_rows": null,
       "height": null,
       "justify_content": null,
       "justify_items": null,
       "left": null,
       "margin": null,
       "max_height": null,
       "max_width": null,
       "min_height": null,
       "min_width": null,
       "object_fit": null,
       "object_position": null,
       "order": null,
       "overflow": null,
       "overflow_x": null,
       "overflow_y": null,
       "padding": null,
       "right": null,
       "top": null,
       "visibility": null,
       "width": null
      }
     },
     "7f8f9928571e46dfb781fcdae908e4f0": {
      "model_module": "@jupyter-widgets/base",
      "model_module_version": "1.2.0",
      "model_name": "LayoutModel",
      "state": {
       "_model_module": "@jupyter-widgets/base",
       "_model_module_version": "1.2.0",
       "_model_name": "LayoutModel",
       "_view_count": null,
       "_view_module": "@jupyter-widgets/base",
       "_view_module_version": "1.2.0",
       "_view_name": "LayoutView",
       "align_content": null,
       "align_items": null,
       "align_self": null,
       "border": null,
       "bottom": null,
       "display": null,
       "flex": null,
       "flex_flow": null,
       "grid_area": null,
       "grid_auto_columns": null,
       "grid_auto_flow": null,
       "grid_auto_rows": null,
       "grid_column": null,
       "grid_gap": null,
       "grid_row": null,
       "grid_template_areas": null,
       "grid_template_columns": null,
       "grid_template_rows": null,
       "height": null,
       "justify_content": null,
       "justify_items": null,
       "left": null,
       "margin": null,
       "max_height": null,
       "max_width": null,
       "min_height": null,
       "min_width": null,
       "object_fit": null,
       "object_position": null,
       "order": null,
       "overflow": null,
       "overflow_x": null,
       "overflow_y": null,
       "padding": null,
       "right": null,
       "top": null,
       "visibility": null,
       "width": null
      }
     },
     "8af21cdf8ad54c639a7413044b76b62d": {
      "model_module": "@jupyter-widgets/controls",
      "model_module_version": "1.5.0",
      "model_name": "HBoxModel",
      "state": {
       "_dom_classes": [],
       "_model_module": "@jupyter-widgets/controls",
       "_model_module_version": "1.5.0",
       "_model_name": "HBoxModel",
       "_view_count": null,
       "_view_module": "@jupyter-widgets/controls",
       "_view_module_version": "1.5.0",
       "_view_name": "HBoxView",
       "box_style": "",
       "children": [
        "IPY_MODEL_70bdaa5a08b24338a495358b91bac28d",
        "IPY_MODEL_e0ba5b97591b492a9ba36f4f3af1307d",
        "IPY_MODEL_60a98ae266ec4c438cee8d3c0ac0e9b3"
       ],
       "layout": "IPY_MODEL_a82b19590a4a40e9b29a1ed118283717"
      }
     },
     "a82b19590a4a40e9b29a1ed118283717": {
      "model_module": "@jupyter-widgets/base",
      "model_module_version": "1.2.0",
      "model_name": "LayoutModel",
      "state": {
       "_model_module": "@jupyter-widgets/base",
       "_model_module_version": "1.2.0",
       "_model_name": "LayoutModel",
       "_view_count": null,
       "_view_module": "@jupyter-widgets/base",
       "_view_module_version": "1.2.0",
       "_view_name": "LayoutView",
       "align_content": null,
       "align_items": null,
       "align_self": null,
       "border": null,
       "bottom": null,
       "display": null,
       "flex": null,
       "flex_flow": null,
       "grid_area": null,
       "grid_auto_columns": null,
       "grid_auto_flow": null,
       "grid_auto_rows": null,
       "grid_column": null,
       "grid_gap": null,
       "grid_row": null,
       "grid_template_areas": null,
       "grid_template_columns": null,
       "grid_template_rows": null,
       "height": null,
       "justify_content": null,
       "justify_items": null,
       "left": null,
       "margin": null,
       "max_height": null,
       "max_width": null,
       "min_height": null,
       "min_width": null,
       "object_fit": null,
       "object_position": null,
       "order": null,
       "overflow": null,
       "overflow_x": null,
       "overflow_y": null,
       "padding": null,
       "right": null,
       "top": null,
       "visibility": null,
       "width": null
      }
     },
     "e0ba5b97591b492a9ba36f4f3af1307d": {
      "model_module": "@jupyter-widgets/controls",
      "model_module_version": "1.5.0",
      "model_name": "FloatProgressModel",
      "state": {
       "_dom_classes": [],
       "_model_module": "@jupyter-widgets/controls",
       "_model_module_version": "1.5.0",
       "_model_name": "FloatProgressModel",
       "_view_count": null,
       "_view_module": "@jupyter-widgets/controls",
       "_view_module_version": "1.5.0",
       "_view_name": "ProgressView",
       "bar_style": "success",
       "description": "",
       "description_tooltip": null,
       "layout": "IPY_MODEL_0b6a4183362f4ceca2328320b4392bc7",
       "max": 87319819.0,
       "min": 0.0,
       "orientation": "horizontal",
       "style": "IPY_MODEL_4b4093d5b25c431eae04f54a31a628ec",
       "value": 87319819.0
      }
     }
    },
    "version_major": 2,
    "version_minor": 0
   }
  }
 },
 "nbformat": 4,
 "nbformat_minor": 5
}
